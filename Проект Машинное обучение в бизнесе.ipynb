{
 "cells": [
  {
   "cell_type": "code",
   "execution_count": 1,
   "metadata": {},
   "outputs": [],
   "source": [
    "#загружаю библиотеки\n",
    "!pip install phik -q\n",
    "!pip install --upgrade scikit-learn -q\n",
    "\n",
    "import matplotlib.pyplot as plt\n",
    "import numpy as np\n",
    "import pandas as pd\n",
    "import phik\n",
    "import seaborn as sns\n",
    "import scipy.stats as st\n",
    "import random\n",
    "\n",
    "from matplotlib import pyplot as plt\n",
    "from phik import resources, report\n",
    "from tqdm.notebook import tqdm\n",
    "from tqdm import tqdm_notebook\n",
    "from sklearn.linear_model import LinearRegression\n",
    "from sklearn.model_selection import train_test_split, RandomizedSearchCV\n",
    "from sklearn.pipeline import make_pipeline\n",
    "from sklearn.preprocessing import StandardScaler\n",
    "from sklearn.metrics import mean_squared_error"
   ]
  },
  {
   "cell_type": "markdown",
   "metadata": {},
   "source": [
    "# Выбор локации для скважины"
   ]
  },
  {
   "cell_type": "markdown",
   "metadata": {},
   "source": [
    "Допустим, вы работаете в добывающей компании «ГлавРосГосНефть». Нужно решить, где бурить новую скважину.\n",
    "\n",
    "Вам предоставлены пробы нефти в трёх регионах: в каждом 10 000 месторождений, где измерили качество нефти и объём её запасов. Постройте модель машинного обучения, которая поможет определить регион, где добыча принесёт наибольшую прибыль. Проанализируйте возможную прибыль и риски техникой *Bootstrap.*\n",
    "\n",
    "Шаги для выбора локации:\n",
    "\n",
    "- В избранном регионе ищут месторождения, для каждого определяют значения признаков;\n",
    "- Строят модель и оценивают объём запасов;\n",
    "- Выбирают месторождения с самым высокими оценками значений. Количество месторождений зависит от бюджета компании и стоимости разработки одной скважины;\n",
    "- Прибыль равна суммарной прибыли отобранных месторождений."
   ]
  },
  {
   "cell_type": "markdown",
   "metadata": {},
   "source": [
    "**Цель исследования:** \n",
    "\n",
    "Построить модель машинного обучения, которая поможет определить регион, где добыча принесёт наибольшую прибыль. Проанализировать возможную прибыль и риски техникой Bootstrap.\n",
    "\n",
    "**Ход исследования:**\n",
    "\n",
    "1. Загрузка и подготовка данных: загрузка и изучение общей информации из датасетов, обработка дубликатов и изменение типов данных, исследовательский анализ данных\n",
    "2. Обучение моделей, выбор лучшей, проверка качества\n",
    "3. Подготовка к рассчету прибыли\n",
    "4. Расчет прибыли и рисков\n",
    "\n",
    "**Общий вывод:** резюмирование полученных результатов, формулировка ключевых выводов и рекомендаций"
   ]
  },
  {
   "cell_type": "markdown",
   "metadata": {},
   "source": [
    "## Загрузка и подготовка данных"
   ]
  },
  {
   "cell_type": "markdown",
   "metadata": {},
   "source": [
    "### Загрузка данных"
   ]
  },
  {
   "cell_type": "code",
   "execution_count": 2,
   "metadata": {},
   "outputs": [],
   "source": [
    "df_geo_data_0 = pd.read_csv('/datasets/geo_data_0.csv') # данные геологоразведки первого региона\n",
    "df_geo_data_1 = pd.read_csv('/datasets/geo_data_1.csv') # данные геологоразведки второго региона\n",
    "df_geo_data_2 = pd.read_csv('/datasets/geo_data_2.csv') #данные геологоразведки третьего региона"
   ]
  },
  {
   "cell_type": "code",
   "execution_count": 3,
   "metadata": {},
   "outputs": [],
   "source": [
    "def open_df(df, df_name=\"DataFrame\", show_info=True, show_head=True, show_describe=True):\n",
    "    print(f'Анализ {df_name}:\\n')\n",
    "    \n",
    "    if show_info:\n",
    "        print(f'Общая информация о {df_name}:')\n",
    "        display(df.info())\n",
    "\n",
    "    if show_head:\n",
    "        print(f'\\nПервые строки {df_name}:')\n",
    "        display(df.head())\n",
    "\n",
    "    if show_describe:\n",
    "        print(f'\\nСтатистики для {df_name}:')\n",
    "        display(df.describe())"
   ]
  },
  {
   "cell_type": "code",
   "execution_count": 4,
   "metadata": {},
   "outputs": [
    {
     "name": "stdout",
     "output_type": "stream",
     "text": [
      "Анализ df_geo_data_0:\n",
      "\n",
      "Общая информация о df_geo_data_0:\n",
      "<class 'pandas.core.frame.DataFrame'>\n",
      "RangeIndex: 100000 entries, 0 to 99999\n",
      "Data columns (total 5 columns):\n",
      " #   Column   Non-Null Count   Dtype  \n",
      "---  ------   --------------   -----  \n",
      " 0   id       100000 non-null  object \n",
      " 1   f0       100000 non-null  float64\n",
      " 2   f1       100000 non-null  float64\n",
      " 3   f2       100000 non-null  float64\n",
      " 4   product  100000 non-null  float64\n",
      "dtypes: float64(4), object(1)\n",
      "memory usage: 3.8+ MB\n"
     ]
    },
    {
     "data": {
      "text/plain": [
       "None"
      ]
     },
     "metadata": {},
     "output_type": "display_data"
    },
    {
     "name": "stdout",
     "output_type": "stream",
     "text": [
      "\n",
      "Первые строки df_geo_data_0:\n"
     ]
    },
    {
     "data": {
      "text/html": [
       "<div>\n",
       "<style scoped>\n",
       "    .dataframe tbody tr th:only-of-type {\n",
       "        vertical-align: middle;\n",
       "    }\n",
       "\n",
       "    .dataframe tbody tr th {\n",
       "        vertical-align: top;\n",
       "    }\n",
       "\n",
       "    .dataframe thead th {\n",
       "        text-align: right;\n",
       "    }\n",
       "</style>\n",
       "<table border=\"1\" class=\"dataframe\">\n",
       "  <thead>\n",
       "    <tr style=\"text-align: right;\">\n",
       "      <th></th>\n",
       "      <th>id</th>\n",
       "      <th>f0</th>\n",
       "      <th>f1</th>\n",
       "      <th>f2</th>\n",
       "      <th>product</th>\n",
       "    </tr>\n",
       "  </thead>\n",
       "  <tbody>\n",
       "    <tr>\n",
       "      <th>0</th>\n",
       "      <td>txEyH</td>\n",
       "      <td>0.705745</td>\n",
       "      <td>-0.497823</td>\n",
       "      <td>1.221170</td>\n",
       "      <td>105.280062</td>\n",
       "    </tr>\n",
       "    <tr>\n",
       "      <th>1</th>\n",
       "      <td>2acmU</td>\n",
       "      <td>1.334711</td>\n",
       "      <td>-0.340164</td>\n",
       "      <td>4.365080</td>\n",
       "      <td>73.037750</td>\n",
       "    </tr>\n",
       "    <tr>\n",
       "      <th>2</th>\n",
       "      <td>409Wp</td>\n",
       "      <td>1.022732</td>\n",
       "      <td>0.151990</td>\n",
       "      <td>1.419926</td>\n",
       "      <td>85.265647</td>\n",
       "    </tr>\n",
       "    <tr>\n",
       "      <th>3</th>\n",
       "      <td>iJLyR</td>\n",
       "      <td>-0.032172</td>\n",
       "      <td>0.139033</td>\n",
       "      <td>2.978566</td>\n",
       "      <td>168.620776</td>\n",
       "    </tr>\n",
       "    <tr>\n",
       "      <th>4</th>\n",
       "      <td>Xdl7t</td>\n",
       "      <td>1.988431</td>\n",
       "      <td>0.155413</td>\n",
       "      <td>4.751769</td>\n",
       "      <td>154.036647</td>\n",
       "    </tr>\n",
       "  </tbody>\n",
       "</table>\n",
       "</div>"
      ],
      "text/plain": [
       "      id        f0        f1        f2     product\n",
       "0  txEyH  0.705745 -0.497823  1.221170  105.280062\n",
       "1  2acmU  1.334711 -0.340164  4.365080   73.037750\n",
       "2  409Wp  1.022732  0.151990  1.419926   85.265647\n",
       "3  iJLyR -0.032172  0.139033  2.978566  168.620776\n",
       "4  Xdl7t  1.988431  0.155413  4.751769  154.036647"
      ]
     },
     "metadata": {},
     "output_type": "display_data"
    },
    {
     "name": "stdout",
     "output_type": "stream",
     "text": [
      "\n",
      "Статистики для df_geo_data_0:\n"
     ]
    },
    {
     "data": {
      "text/html": [
       "<div>\n",
       "<style scoped>\n",
       "    .dataframe tbody tr th:only-of-type {\n",
       "        vertical-align: middle;\n",
       "    }\n",
       "\n",
       "    .dataframe tbody tr th {\n",
       "        vertical-align: top;\n",
       "    }\n",
       "\n",
       "    .dataframe thead th {\n",
       "        text-align: right;\n",
       "    }\n",
       "</style>\n",
       "<table border=\"1\" class=\"dataframe\">\n",
       "  <thead>\n",
       "    <tr style=\"text-align: right;\">\n",
       "      <th></th>\n",
       "      <th>f0</th>\n",
       "      <th>f1</th>\n",
       "      <th>f2</th>\n",
       "      <th>product</th>\n",
       "    </tr>\n",
       "  </thead>\n",
       "  <tbody>\n",
       "    <tr>\n",
       "      <th>count</th>\n",
       "      <td>100000.000000</td>\n",
       "      <td>100000.000000</td>\n",
       "      <td>100000.000000</td>\n",
       "      <td>100000.000000</td>\n",
       "    </tr>\n",
       "    <tr>\n",
       "      <th>mean</th>\n",
       "      <td>0.500419</td>\n",
       "      <td>0.250143</td>\n",
       "      <td>2.502647</td>\n",
       "      <td>92.500000</td>\n",
       "    </tr>\n",
       "    <tr>\n",
       "      <th>std</th>\n",
       "      <td>0.871832</td>\n",
       "      <td>0.504433</td>\n",
       "      <td>3.248248</td>\n",
       "      <td>44.288691</td>\n",
       "    </tr>\n",
       "    <tr>\n",
       "      <th>min</th>\n",
       "      <td>-1.408605</td>\n",
       "      <td>-0.848218</td>\n",
       "      <td>-12.088328</td>\n",
       "      <td>0.000000</td>\n",
       "    </tr>\n",
       "    <tr>\n",
       "      <th>25%</th>\n",
       "      <td>-0.072580</td>\n",
       "      <td>-0.200881</td>\n",
       "      <td>0.287748</td>\n",
       "      <td>56.497507</td>\n",
       "    </tr>\n",
       "    <tr>\n",
       "      <th>50%</th>\n",
       "      <td>0.502360</td>\n",
       "      <td>0.250252</td>\n",
       "      <td>2.515969</td>\n",
       "      <td>91.849972</td>\n",
       "    </tr>\n",
       "    <tr>\n",
       "      <th>75%</th>\n",
       "      <td>1.073581</td>\n",
       "      <td>0.700646</td>\n",
       "      <td>4.715088</td>\n",
       "      <td>128.564089</td>\n",
       "    </tr>\n",
       "    <tr>\n",
       "      <th>max</th>\n",
       "      <td>2.362331</td>\n",
       "      <td>1.343769</td>\n",
       "      <td>16.003790</td>\n",
       "      <td>185.364347</td>\n",
       "    </tr>\n",
       "  </tbody>\n",
       "</table>\n",
       "</div>"
      ],
      "text/plain": [
       "                  f0             f1             f2        product\n",
       "count  100000.000000  100000.000000  100000.000000  100000.000000\n",
       "mean        0.500419       0.250143       2.502647      92.500000\n",
       "std         0.871832       0.504433       3.248248      44.288691\n",
       "min        -1.408605      -0.848218     -12.088328       0.000000\n",
       "25%        -0.072580      -0.200881       0.287748      56.497507\n",
       "50%         0.502360       0.250252       2.515969      91.849972\n",
       "75%         1.073581       0.700646       4.715088     128.564089\n",
       "max         2.362331       1.343769      16.003790     185.364347"
      ]
     },
     "metadata": {},
     "output_type": "display_data"
    }
   ],
   "source": [
    "open_df(df_geo_data_0, df_name=\"df_geo_data_0\")"
   ]
  },
  {
   "cell_type": "markdown",
   "metadata": {},
   "source": [
    "В данных df_geo_data_0 10000 строк. Пропуски отсутствуют. Типы столбцов указаны верно. Названия столбцов корректны."
   ]
  },
  {
   "cell_type": "code",
   "execution_count": 5,
   "metadata": {},
   "outputs": [
    {
     "name": "stdout",
     "output_type": "stream",
     "text": [
      "Анализ df_geo_data_1:\n",
      "\n",
      "Общая информация о df_geo_data_1:\n",
      "<class 'pandas.core.frame.DataFrame'>\n",
      "RangeIndex: 100000 entries, 0 to 99999\n",
      "Data columns (total 5 columns):\n",
      " #   Column   Non-Null Count   Dtype  \n",
      "---  ------   --------------   -----  \n",
      " 0   id       100000 non-null  object \n",
      " 1   f0       100000 non-null  float64\n",
      " 2   f1       100000 non-null  float64\n",
      " 3   f2       100000 non-null  float64\n",
      " 4   product  100000 non-null  float64\n",
      "dtypes: float64(4), object(1)\n",
      "memory usage: 3.8+ MB\n"
     ]
    },
    {
     "data": {
      "text/plain": [
       "None"
      ]
     },
     "metadata": {},
     "output_type": "display_data"
    },
    {
     "name": "stdout",
     "output_type": "stream",
     "text": [
      "\n",
      "Первые строки df_geo_data_1:\n"
     ]
    },
    {
     "data": {
      "text/html": [
       "<div>\n",
       "<style scoped>\n",
       "    .dataframe tbody tr th:only-of-type {\n",
       "        vertical-align: middle;\n",
       "    }\n",
       "\n",
       "    .dataframe tbody tr th {\n",
       "        vertical-align: top;\n",
       "    }\n",
       "\n",
       "    .dataframe thead th {\n",
       "        text-align: right;\n",
       "    }\n",
       "</style>\n",
       "<table border=\"1\" class=\"dataframe\">\n",
       "  <thead>\n",
       "    <tr style=\"text-align: right;\">\n",
       "      <th></th>\n",
       "      <th>id</th>\n",
       "      <th>f0</th>\n",
       "      <th>f1</th>\n",
       "      <th>f2</th>\n",
       "      <th>product</th>\n",
       "    </tr>\n",
       "  </thead>\n",
       "  <tbody>\n",
       "    <tr>\n",
       "      <th>0</th>\n",
       "      <td>kBEdx</td>\n",
       "      <td>-15.001348</td>\n",
       "      <td>-8.276000</td>\n",
       "      <td>-0.005876</td>\n",
       "      <td>3.179103</td>\n",
       "    </tr>\n",
       "    <tr>\n",
       "      <th>1</th>\n",
       "      <td>62mP7</td>\n",
       "      <td>14.272088</td>\n",
       "      <td>-3.475083</td>\n",
       "      <td>0.999183</td>\n",
       "      <td>26.953261</td>\n",
       "    </tr>\n",
       "    <tr>\n",
       "      <th>2</th>\n",
       "      <td>vyE1P</td>\n",
       "      <td>6.263187</td>\n",
       "      <td>-5.948386</td>\n",
       "      <td>5.001160</td>\n",
       "      <td>134.766305</td>\n",
       "    </tr>\n",
       "    <tr>\n",
       "      <th>3</th>\n",
       "      <td>KcrkZ</td>\n",
       "      <td>-13.081196</td>\n",
       "      <td>-11.506057</td>\n",
       "      <td>4.999415</td>\n",
       "      <td>137.945408</td>\n",
       "    </tr>\n",
       "    <tr>\n",
       "      <th>4</th>\n",
       "      <td>AHL4O</td>\n",
       "      <td>12.702195</td>\n",
       "      <td>-8.147433</td>\n",
       "      <td>5.004363</td>\n",
       "      <td>134.766305</td>\n",
       "    </tr>\n",
       "  </tbody>\n",
       "</table>\n",
       "</div>"
      ],
      "text/plain": [
       "      id         f0         f1        f2     product\n",
       "0  kBEdx -15.001348  -8.276000 -0.005876    3.179103\n",
       "1  62mP7  14.272088  -3.475083  0.999183   26.953261\n",
       "2  vyE1P   6.263187  -5.948386  5.001160  134.766305\n",
       "3  KcrkZ -13.081196 -11.506057  4.999415  137.945408\n",
       "4  AHL4O  12.702195  -8.147433  5.004363  134.766305"
      ]
     },
     "metadata": {},
     "output_type": "display_data"
    },
    {
     "name": "stdout",
     "output_type": "stream",
     "text": [
      "\n",
      "Статистики для df_geo_data_1:\n"
     ]
    },
    {
     "data": {
      "text/html": [
       "<div>\n",
       "<style scoped>\n",
       "    .dataframe tbody tr th:only-of-type {\n",
       "        vertical-align: middle;\n",
       "    }\n",
       "\n",
       "    .dataframe tbody tr th {\n",
       "        vertical-align: top;\n",
       "    }\n",
       "\n",
       "    .dataframe thead th {\n",
       "        text-align: right;\n",
       "    }\n",
       "</style>\n",
       "<table border=\"1\" class=\"dataframe\">\n",
       "  <thead>\n",
       "    <tr style=\"text-align: right;\">\n",
       "      <th></th>\n",
       "      <th>f0</th>\n",
       "      <th>f1</th>\n",
       "      <th>f2</th>\n",
       "      <th>product</th>\n",
       "    </tr>\n",
       "  </thead>\n",
       "  <tbody>\n",
       "    <tr>\n",
       "      <th>count</th>\n",
       "      <td>100000.000000</td>\n",
       "      <td>100000.000000</td>\n",
       "      <td>100000.000000</td>\n",
       "      <td>100000.000000</td>\n",
       "    </tr>\n",
       "    <tr>\n",
       "      <th>mean</th>\n",
       "      <td>1.141296</td>\n",
       "      <td>-4.796579</td>\n",
       "      <td>2.494541</td>\n",
       "      <td>68.825000</td>\n",
       "    </tr>\n",
       "    <tr>\n",
       "      <th>std</th>\n",
       "      <td>8.965932</td>\n",
       "      <td>5.119872</td>\n",
       "      <td>1.703572</td>\n",
       "      <td>45.944423</td>\n",
       "    </tr>\n",
       "    <tr>\n",
       "      <th>min</th>\n",
       "      <td>-31.609576</td>\n",
       "      <td>-26.358598</td>\n",
       "      <td>-0.018144</td>\n",
       "      <td>0.000000</td>\n",
       "    </tr>\n",
       "    <tr>\n",
       "      <th>25%</th>\n",
       "      <td>-6.298551</td>\n",
       "      <td>-8.267985</td>\n",
       "      <td>1.000021</td>\n",
       "      <td>26.953261</td>\n",
       "    </tr>\n",
       "    <tr>\n",
       "      <th>50%</th>\n",
       "      <td>1.153055</td>\n",
       "      <td>-4.813172</td>\n",
       "      <td>2.011479</td>\n",
       "      <td>57.085625</td>\n",
       "    </tr>\n",
       "    <tr>\n",
       "      <th>75%</th>\n",
       "      <td>8.621015</td>\n",
       "      <td>-1.332816</td>\n",
       "      <td>3.999904</td>\n",
       "      <td>107.813044</td>\n",
       "    </tr>\n",
       "    <tr>\n",
       "      <th>max</th>\n",
       "      <td>29.421755</td>\n",
       "      <td>18.734063</td>\n",
       "      <td>5.019721</td>\n",
       "      <td>137.945408</td>\n",
       "    </tr>\n",
       "  </tbody>\n",
       "</table>\n",
       "</div>"
      ],
      "text/plain": [
       "                  f0             f1             f2        product\n",
       "count  100000.000000  100000.000000  100000.000000  100000.000000\n",
       "mean        1.141296      -4.796579       2.494541      68.825000\n",
       "std         8.965932       5.119872       1.703572      45.944423\n",
       "min       -31.609576     -26.358598      -0.018144       0.000000\n",
       "25%        -6.298551      -8.267985       1.000021      26.953261\n",
       "50%         1.153055      -4.813172       2.011479      57.085625\n",
       "75%         8.621015      -1.332816       3.999904     107.813044\n",
       "max        29.421755      18.734063       5.019721     137.945408"
      ]
     },
     "metadata": {},
     "output_type": "display_data"
    }
   ],
   "source": [
    "open_df(df_geo_data_1, df_name=\"df_geo_data_1\")"
   ]
  },
  {
   "cell_type": "markdown",
   "metadata": {},
   "source": [
    "В данных df_geo_data_1 10000 строк. Пропуски отсутствуют. Типы столбцов указаны верно. Названия столбцов корректны."
   ]
  },
  {
   "cell_type": "code",
   "execution_count": 6,
   "metadata": {},
   "outputs": [
    {
     "name": "stdout",
     "output_type": "stream",
     "text": [
      "Анализ df_geo_data_2:\n",
      "\n",
      "Общая информация о df_geo_data_2:\n",
      "<class 'pandas.core.frame.DataFrame'>\n",
      "RangeIndex: 100000 entries, 0 to 99999\n",
      "Data columns (total 5 columns):\n",
      " #   Column   Non-Null Count   Dtype  \n",
      "---  ------   --------------   -----  \n",
      " 0   id       100000 non-null  object \n",
      " 1   f0       100000 non-null  float64\n",
      " 2   f1       100000 non-null  float64\n",
      " 3   f2       100000 non-null  float64\n",
      " 4   product  100000 non-null  float64\n",
      "dtypes: float64(4), object(1)\n",
      "memory usage: 3.8+ MB\n"
     ]
    },
    {
     "data": {
      "text/plain": [
       "None"
      ]
     },
     "metadata": {},
     "output_type": "display_data"
    },
    {
     "name": "stdout",
     "output_type": "stream",
     "text": [
      "\n",
      "Первые строки df_geo_data_2:\n"
     ]
    },
    {
     "data": {
      "text/html": [
       "<div>\n",
       "<style scoped>\n",
       "    .dataframe tbody tr th:only-of-type {\n",
       "        vertical-align: middle;\n",
       "    }\n",
       "\n",
       "    .dataframe tbody tr th {\n",
       "        vertical-align: top;\n",
       "    }\n",
       "\n",
       "    .dataframe thead th {\n",
       "        text-align: right;\n",
       "    }\n",
       "</style>\n",
       "<table border=\"1\" class=\"dataframe\">\n",
       "  <thead>\n",
       "    <tr style=\"text-align: right;\">\n",
       "      <th></th>\n",
       "      <th>id</th>\n",
       "      <th>f0</th>\n",
       "      <th>f1</th>\n",
       "      <th>f2</th>\n",
       "      <th>product</th>\n",
       "    </tr>\n",
       "  </thead>\n",
       "  <tbody>\n",
       "    <tr>\n",
       "      <th>0</th>\n",
       "      <td>fwXo0</td>\n",
       "      <td>-1.146987</td>\n",
       "      <td>0.963328</td>\n",
       "      <td>-0.828965</td>\n",
       "      <td>27.758673</td>\n",
       "    </tr>\n",
       "    <tr>\n",
       "      <th>1</th>\n",
       "      <td>WJtFt</td>\n",
       "      <td>0.262778</td>\n",
       "      <td>0.269839</td>\n",
       "      <td>-2.530187</td>\n",
       "      <td>56.069697</td>\n",
       "    </tr>\n",
       "    <tr>\n",
       "      <th>2</th>\n",
       "      <td>ovLUW</td>\n",
       "      <td>0.194587</td>\n",
       "      <td>0.289035</td>\n",
       "      <td>-5.586433</td>\n",
       "      <td>62.871910</td>\n",
       "    </tr>\n",
       "    <tr>\n",
       "      <th>3</th>\n",
       "      <td>q6cA6</td>\n",
       "      <td>2.236060</td>\n",
       "      <td>-0.553760</td>\n",
       "      <td>0.930038</td>\n",
       "      <td>114.572842</td>\n",
       "    </tr>\n",
       "    <tr>\n",
       "      <th>4</th>\n",
       "      <td>WPMUX</td>\n",
       "      <td>-0.515993</td>\n",
       "      <td>1.716266</td>\n",
       "      <td>5.899011</td>\n",
       "      <td>149.600746</td>\n",
       "    </tr>\n",
       "  </tbody>\n",
       "</table>\n",
       "</div>"
      ],
      "text/plain": [
       "      id        f0        f1        f2     product\n",
       "0  fwXo0 -1.146987  0.963328 -0.828965   27.758673\n",
       "1  WJtFt  0.262778  0.269839 -2.530187   56.069697\n",
       "2  ovLUW  0.194587  0.289035 -5.586433   62.871910\n",
       "3  q6cA6  2.236060 -0.553760  0.930038  114.572842\n",
       "4  WPMUX -0.515993  1.716266  5.899011  149.600746"
      ]
     },
     "metadata": {},
     "output_type": "display_data"
    },
    {
     "name": "stdout",
     "output_type": "stream",
     "text": [
      "\n",
      "Статистики для df_geo_data_2:\n"
     ]
    },
    {
     "data": {
      "text/html": [
       "<div>\n",
       "<style scoped>\n",
       "    .dataframe tbody tr th:only-of-type {\n",
       "        vertical-align: middle;\n",
       "    }\n",
       "\n",
       "    .dataframe tbody tr th {\n",
       "        vertical-align: top;\n",
       "    }\n",
       "\n",
       "    .dataframe thead th {\n",
       "        text-align: right;\n",
       "    }\n",
       "</style>\n",
       "<table border=\"1\" class=\"dataframe\">\n",
       "  <thead>\n",
       "    <tr style=\"text-align: right;\">\n",
       "      <th></th>\n",
       "      <th>f0</th>\n",
       "      <th>f1</th>\n",
       "      <th>f2</th>\n",
       "      <th>product</th>\n",
       "    </tr>\n",
       "  </thead>\n",
       "  <tbody>\n",
       "    <tr>\n",
       "      <th>count</th>\n",
       "      <td>100000.000000</td>\n",
       "      <td>100000.000000</td>\n",
       "      <td>100000.000000</td>\n",
       "      <td>100000.000000</td>\n",
       "    </tr>\n",
       "    <tr>\n",
       "      <th>mean</th>\n",
       "      <td>0.002023</td>\n",
       "      <td>-0.002081</td>\n",
       "      <td>2.495128</td>\n",
       "      <td>95.000000</td>\n",
       "    </tr>\n",
       "    <tr>\n",
       "      <th>std</th>\n",
       "      <td>1.732045</td>\n",
       "      <td>1.730417</td>\n",
       "      <td>3.473445</td>\n",
       "      <td>44.749921</td>\n",
       "    </tr>\n",
       "    <tr>\n",
       "      <th>min</th>\n",
       "      <td>-8.760004</td>\n",
       "      <td>-7.084020</td>\n",
       "      <td>-11.970335</td>\n",
       "      <td>0.000000</td>\n",
       "    </tr>\n",
       "    <tr>\n",
       "      <th>25%</th>\n",
       "      <td>-1.162288</td>\n",
       "      <td>-1.174820</td>\n",
       "      <td>0.130359</td>\n",
       "      <td>59.450441</td>\n",
       "    </tr>\n",
       "    <tr>\n",
       "      <th>50%</th>\n",
       "      <td>0.009424</td>\n",
       "      <td>-0.009482</td>\n",
       "      <td>2.484236</td>\n",
       "      <td>94.925613</td>\n",
       "    </tr>\n",
       "    <tr>\n",
       "      <th>75%</th>\n",
       "      <td>1.158535</td>\n",
       "      <td>1.163678</td>\n",
       "      <td>4.858794</td>\n",
       "      <td>130.595027</td>\n",
       "    </tr>\n",
       "    <tr>\n",
       "      <th>max</th>\n",
       "      <td>7.238262</td>\n",
       "      <td>7.844801</td>\n",
       "      <td>16.739402</td>\n",
       "      <td>190.029838</td>\n",
       "    </tr>\n",
       "  </tbody>\n",
       "</table>\n",
       "</div>"
      ],
      "text/plain": [
       "                  f0             f1             f2        product\n",
       "count  100000.000000  100000.000000  100000.000000  100000.000000\n",
       "mean        0.002023      -0.002081       2.495128      95.000000\n",
       "std         1.732045       1.730417       3.473445      44.749921\n",
       "min        -8.760004      -7.084020     -11.970335       0.000000\n",
       "25%        -1.162288      -1.174820       0.130359      59.450441\n",
       "50%         0.009424      -0.009482       2.484236      94.925613\n",
       "75%         1.158535       1.163678       4.858794     130.595027\n",
       "max         7.238262       7.844801      16.739402     190.029838"
      ]
     },
     "metadata": {},
     "output_type": "display_data"
    }
   ],
   "source": [
    "open_df(df_geo_data_2, df_name=\"df_geo_data_2\")"
   ]
  },
  {
   "cell_type": "markdown",
   "metadata": {},
   "source": [
    "В данных df_geo_data_2 10000 строк. Пропуски отсутствуют. Типы столбцов указаны верно. Названия столбцов корректны."
   ]
  },
  {
   "cell_type": "markdown",
   "metadata": {},
   "source": [
    "**Выводы:**\n",
    "\n",
    "Во всех трех датафреймах по 10000 строк. Пропуски отсутствуют. Названия столбцов корректны"
   ]
  },
  {
   "cell_type": "markdown",
   "metadata": {},
   "source": [
    "### Предобработка данных"
   ]
  },
  {
   "cell_type": "markdown",
   "metadata": {},
   "source": [
    "**Удаление столбца id**"
   ]
  },
  {
   "cell_type": "code",
   "execution_count": 7,
   "metadata": {
    "scrolled": true
   },
   "outputs": [
    {
     "data": {
      "text/html": [
       "<div>\n",
       "<style scoped>\n",
       "    .dataframe tbody tr th:only-of-type {\n",
       "        vertical-align: middle;\n",
       "    }\n",
       "\n",
       "    .dataframe tbody tr th {\n",
       "        vertical-align: top;\n",
       "    }\n",
       "\n",
       "    .dataframe thead th {\n",
       "        text-align: right;\n",
       "    }\n",
       "</style>\n",
       "<table border=\"1\" class=\"dataframe\">\n",
       "  <thead>\n",
       "    <tr style=\"text-align: right;\">\n",
       "      <th></th>\n",
       "      <th>f0</th>\n",
       "      <th>f1</th>\n",
       "      <th>f2</th>\n",
       "      <th>product</th>\n",
       "    </tr>\n",
       "  </thead>\n",
       "  <tbody>\n",
       "    <tr>\n",
       "      <th>0</th>\n",
       "      <td>0.705745</td>\n",
       "      <td>-0.497823</td>\n",
       "      <td>1.221170</td>\n",
       "      <td>105.280062</td>\n",
       "    </tr>\n",
       "    <tr>\n",
       "      <th>1</th>\n",
       "      <td>1.334711</td>\n",
       "      <td>-0.340164</td>\n",
       "      <td>4.365080</td>\n",
       "      <td>73.037750</td>\n",
       "    </tr>\n",
       "    <tr>\n",
       "      <th>2</th>\n",
       "      <td>1.022732</td>\n",
       "      <td>0.151990</td>\n",
       "      <td>1.419926</td>\n",
       "      <td>85.265647</td>\n",
       "    </tr>\n",
       "    <tr>\n",
       "      <th>3</th>\n",
       "      <td>-0.032172</td>\n",
       "      <td>0.139033</td>\n",
       "      <td>2.978566</td>\n",
       "      <td>168.620776</td>\n",
       "    </tr>\n",
       "    <tr>\n",
       "      <th>4</th>\n",
       "      <td>1.988431</td>\n",
       "      <td>0.155413</td>\n",
       "      <td>4.751769</td>\n",
       "      <td>154.036647</td>\n",
       "    </tr>\n",
       "  </tbody>\n",
       "</table>\n",
       "</div>"
      ],
      "text/plain": [
       "         f0        f1        f2     product\n",
       "0  0.705745 -0.497823  1.221170  105.280062\n",
       "1  1.334711 -0.340164  4.365080   73.037750\n",
       "2  1.022732  0.151990  1.419926   85.265647\n",
       "3 -0.032172  0.139033  2.978566  168.620776\n",
       "4  1.988431  0.155413  4.751769  154.036647"
      ]
     },
     "metadata": {},
     "output_type": "display_data"
    },
    {
     "data": {
      "text/html": [
       "<div>\n",
       "<style scoped>\n",
       "    .dataframe tbody tr th:only-of-type {\n",
       "        vertical-align: middle;\n",
       "    }\n",
       "\n",
       "    .dataframe tbody tr th {\n",
       "        vertical-align: top;\n",
       "    }\n",
       "\n",
       "    .dataframe thead th {\n",
       "        text-align: right;\n",
       "    }\n",
       "</style>\n",
       "<table border=\"1\" class=\"dataframe\">\n",
       "  <thead>\n",
       "    <tr style=\"text-align: right;\">\n",
       "      <th></th>\n",
       "      <th>f0</th>\n",
       "      <th>f1</th>\n",
       "      <th>f2</th>\n",
       "      <th>product</th>\n",
       "    </tr>\n",
       "  </thead>\n",
       "  <tbody>\n",
       "    <tr>\n",
       "      <th>0</th>\n",
       "      <td>-15.001348</td>\n",
       "      <td>-8.276000</td>\n",
       "      <td>-0.005876</td>\n",
       "      <td>3.179103</td>\n",
       "    </tr>\n",
       "    <tr>\n",
       "      <th>1</th>\n",
       "      <td>14.272088</td>\n",
       "      <td>-3.475083</td>\n",
       "      <td>0.999183</td>\n",
       "      <td>26.953261</td>\n",
       "    </tr>\n",
       "    <tr>\n",
       "      <th>2</th>\n",
       "      <td>6.263187</td>\n",
       "      <td>-5.948386</td>\n",
       "      <td>5.001160</td>\n",
       "      <td>134.766305</td>\n",
       "    </tr>\n",
       "    <tr>\n",
       "      <th>3</th>\n",
       "      <td>-13.081196</td>\n",
       "      <td>-11.506057</td>\n",
       "      <td>4.999415</td>\n",
       "      <td>137.945408</td>\n",
       "    </tr>\n",
       "    <tr>\n",
       "      <th>4</th>\n",
       "      <td>12.702195</td>\n",
       "      <td>-8.147433</td>\n",
       "      <td>5.004363</td>\n",
       "      <td>134.766305</td>\n",
       "    </tr>\n",
       "  </tbody>\n",
       "</table>\n",
       "</div>"
      ],
      "text/plain": [
       "          f0         f1        f2     product\n",
       "0 -15.001348  -8.276000 -0.005876    3.179103\n",
       "1  14.272088  -3.475083  0.999183   26.953261\n",
       "2   6.263187  -5.948386  5.001160  134.766305\n",
       "3 -13.081196 -11.506057  4.999415  137.945408\n",
       "4  12.702195  -8.147433  5.004363  134.766305"
      ]
     },
     "metadata": {},
     "output_type": "display_data"
    },
    {
     "data": {
      "text/html": [
       "<div>\n",
       "<style scoped>\n",
       "    .dataframe tbody tr th:only-of-type {\n",
       "        vertical-align: middle;\n",
       "    }\n",
       "\n",
       "    .dataframe tbody tr th {\n",
       "        vertical-align: top;\n",
       "    }\n",
       "\n",
       "    .dataframe thead th {\n",
       "        text-align: right;\n",
       "    }\n",
       "</style>\n",
       "<table border=\"1\" class=\"dataframe\">\n",
       "  <thead>\n",
       "    <tr style=\"text-align: right;\">\n",
       "      <th></th>\n",
       "      <th>f0</th>\n",
       "      <th>f1</th>\n",
       "      <th>f2</th>\n",
       "      <th>product</th>\n",
       "    </tr>\n",
       "  </thead>\n",
       "  <tbody>\n",
       "    <tr>\n",
       "      <th>0</th>\n",
       "      <td>-1.146987</td>\n",
       "      <td>0.963328</td>\n",
       "      <td>-0.828965</td>\n",
       "      <td>27.758673</td>\n",
       "    </tr>\n",
       "    <tr>\n",
       "      <th>1</th>\n",
       "      <td>0.262778</td>\n",
       "      <td>0.269839</td>\n",
       "      <td>-2.530187</td>\n",
       "      <td>56.069697</td>\n",
       "    </tr>\n",
       "    <tr>\n",
       "      <th>2</th>\n",
       "      <td>0.194587</td>\n",
       "      <td>0.289035</td>\n",
       "      <td>-5.586433</td>\n",
       "      <td>62.871910</td>\n",
       "    </tr>\n",
       "    <tr>\n",
       "      <th>3</th>\n",
       "      <td>2.236060</td>\n",
       "      <td>-0.553760</td>\n",
       "      <td>0.930038</td>\n",
       "      <td>114.572842</td>\n",
       "    </tr>\n",
       "    <tr>\n",
       "      <th>4</th>\n",
       "      <td>-0.515993</td>\n",
       "      <td>1.716266</td>\n",
       "      <td>5.899011</td>\n",
       "      <td>149.600746</td>\n",
       "    </tr>\n",
       "  </tbody>\n",
       "</table>\n",
       "</div>"
      ],
      "text/plain": [
       "         f0        f1        f2     product\n",
       "0 -1.146987  0.963328 -0.828965   27.758673\n",
       "1  0.262778  0.269839 -2.530187   56.069697\n",
       "2  0.194587  0.289035 -5.586433   62.871910\n",
       "3  2.236060 -0.553760  0.930038  114.572842\n",
       "4 -0.515993  1.716266  5.899011  149.600746"
      ]
     },
     "metadata": {},
     "output_type": "display_data"
    }
   ],
   "source": [
    "df_geo_data_0 = df_geo_data_0.drop(['id'], axis=1)\n",
    "df_geo_data_1 = df_geo_data_1.drop(['id'], axis=1)\n",
    "df_geo_data_2 = df_geo_data_2.drop(['id'], axis=1)\n",
    "display(df_geo_data_0.head())\n",
    "display(df_geo_data_1.head())\n",
    "display(df_geo_data_2.head())"
   ]
  },
  {
   "cell_type": "markdown",
   "metadata": {},
   "source": [
    "**Поиск дубликатов**"
   ]
  },
  {
   "cell_type": "code",
   "execution_count": 8,
   "metadata": {},
   "outputs": [
    {
     "name": "stdout",
     "output_type": "stream",
     "text": [
      "Количество явных дубликатов в \"df_geo_data_0\" =  0\n",
      "Количество явных дубликатов в \"df_geo_data_1\" =  0\n",
      "Количество явных дубликатов в \"df_geo_data_2\" =  0\n"
     ]
    }
   ],
   "source": [
    "#исследую данные на наличие явных дубликатов\n",
    "print('Количество явных дубликатов в \"df_geo_data_0\" = ', df_geo_data_0.duplicated().sum())\n",
    "print('Количество явных дубликатов в \"df_geo_data_1\" = ', df_geo_data_1.duplicated().sum())\n",
    "print('Количество явных дубликатов в \"df_geo_data_2\" = ', df_geo_data_2.duplicated().sum())"
   ]
  },
  {
   "cell_type": "markdown",
   "metadata": {},
   "source": [
    "Явные дубликаты отсутствуют"
   ]
  },
  {
   "cell_type": "markdown",
   "metadata": {},
   "source": [
    "Проверяю на неявные дубликаты"
   ]
  },
  {
   "cell_type": "code",
   "execution_count": 9,
   "metadata": {},
   "outputs": [
    {
     "data": {
      "text/html": [
       "<div>\n",
       "<style scoped>\n",
       "    .dataframe tbody tr th:only-of-type {\n",
       "        vertical-align: middle;\n",
       "    }\n",
       "\n",
       "    .dataframe tbody tr th {\n",
       "        vertical-align: top;\n",
       "    }\n",
       "\n",
       "    .dataframe thead th {\n",
       "        text-align: right;\n",
       "    }\n",
       "</style>\n",
       "<table border=\"1\" class=\"dataframe\">\n",
       "  <thead>\n",
       "    <tr style=\"text-align: right;\">\n",
       "      <th></th>\n",
       "      <th>f0</th>\n",
       "      <th>f1</th>\n",
       "      <th>f2</th>\n",
       "      <th>product</th>\n",
       "    </tr>\n",
       "  </thead>\n",
       "  <tbody>\n",
       "  </tbody>\n",
       "</table>\n",
       "</div>"
      ],
      "text/plain": [
       "Empty DataFrame\n",
       "Columns: [f0, f1, f2, product]\n",
       "Index: []"
      ]
     },
     "metadata": {},
     "output_type": "display_data"
    },
    {
     "data": {
      "text/html": [
       "<div>\n",
       "<style scoped>\n",
       "    .dataframe tbody tr th:only-of-type {\n",
       "        vertical-align: middle;\n",
       "    }\n",
       "\n",
       "    .dataframe tbody tr th {\n",
       "        vertical-align: top;\n",
       "    }\n",
       "\n",
       "    .dataframe thead th {\n",
       "        text-align: right;\n",
       "    }\n",
       "</style>\n",
       "<table border=\"1\" class=\"dataframe\">\n",
       "  <thead>\n",
       "    <tr style=\"text-align: right;\">\n",
       "      <th></th>\n",
       "      <th>f0</th>\n",
       "      <th>f1</th>\n",
       "      <th>f2</th>\n",
       "      <th>product</th>\n",
       "    </tr>\n",
       "  </thead>\n",
       "  <tbody>\n",
       "  </tbody>\n",
       "</table>\n",
       "</div>"
      ],
      "text/plain": [
       "Empty DataFrame\n",
       "Columns: [f0, f1, f2, product]\n",
       "Index: []"
      ]
     },
     "metadata": {},
     "output_type": "display_data"
    },
    {
     "data": {
      "text/html": [
       "<div>\n",
       "<style scoped>\n",
       "    .dataframe tbody tr th:only-of-type {\n",
       "        vertical-align: middle;\n",
       "    }\n",
       "\n",
       "    .dataframe tbody tr th {\n",
       "        vertical-align: top;\n",
       "    }\n",
       "\n",
       "    .dataframe thead th {\n",
       "        text-align: right;\n",
       "    }\n",
       "</style>\n",
       "<table border=\"1\" class=\"dataframe\">\n",
       "  <thead>\n",
       "    <tr style=\"text-align: right;\">\n",
       "      <th></th>\n",
       "      <th>f0</th>\n",
       "      <th>f1</th>\n",
       "      <th>f2</th>\n",
       "      <th>product</th>\n",
       "    </tr>\n",
       "  </thead>\n",
       "  <tbody>\n",
       "  </tbody>\n",
       "</table>\n",
       "</div>"
      ],
      "text/plain": [
       "Empty DataFrame\n",
       "Columns: [f0, f1, f2, product]\n",
       "Index: []"
      ]
     },
     "metadata": {},
     "output_type": "display_data"
    }
   ],
   "source": [
    "display(df_geo_data_0[df_geo_data_0.duplicated(subset=['f0', 'f1', 'f2'])])\n",
    "display(df_geo_data_1[df_geo_data_1.duplicated(subset=['f0', 'f1', 'f2'])])\n",
    "display(df_geo_data_2[df_geo_data_2.duplicated(subset=['f0', 'f1', 'f2'])])"
   ]
  },
  {
   "cell_type": "markdown",
   "metadata": {},
   "source": [
    "Неявные дубликаты тоже отсутствуют"
   ]
  },
  {
   "cell_type": "markdown",
   "metadata": {},
   "source": [
    "**Вывод**\n",
    "\n",
    "В ходе предобработки данных в датафреймах удален столбец с id"
   ]
  },
  {
   "cell_type": "markdown",
   "metadata": {},
   "source": [
    "### Исследовательский анализ данных"
   ]
  },
  {
   "cell_type": "code",
   "execution_count": 10,
   "metadata": {},
   "outputs": [],
   "source": [
    "def plot_numeric_features(df):\n",
    "    for column in df.columns:\n",
    "        plt.figure(figsize=(8, 4))\n",
    "        plt.boxplot(df[column])\n",
    "        plt.title(f'Ящик с усами {column}')\n",
    "        plt.ylabel(column)\n",
    "        plt.grid(axis='y', alpha=0.75)\n",
    "\n",
    "        plt.figure(figsize=(8, 4))\n",
    "        plt.hist(df[column], bins=10, alpha=0.5, color='blue')\n",
    "        plt.title(f'Гистограмма {column}')\n",
    "        plt.xlabel(column)\n",
    "        plt.ylabel('Частота')\n",
    "        plt.grid(axis='y', alpha=0.75)\n",
    "                \n",
    "                \n",
    "        plt.tight_layout()  # Регулировка отступов между подграфиками\n",
    "        plt.show()"
   ]
  },
  {
   "cell_type": "code",
   "execution_count": 11,
   "metadata": {},
   "outputs": [],
   "source": [
    "interval_columns = [  'f0', 'f1', 'f2', 'product']\n",
    "def phik_matrix(df):\n",
    "    # вычисление матрицы корреляции с методом Phik\n",
    "    phik_matrix_result = df.phik_matrix(interval_cols=interval_columns)\n",
    "\n",
    "    # визуализация\n",
    "    plt.figure(figsize=(12, 8))\n",
    "    sns.heatmap(phik_matrix_result, annot=True, fmt='.2f', cmap='coolwarm', annot_kws={\"size\": 10})\n",
    "    plt.title('Корреляционная матрица Phik')\n",
    "    plt.show()"
   ]
  },
  {
   "cell_type": "code",
   "execution_count": 12,
   "metadata": {},
   "outputs": [],
   "source": [
    "def exp_analyses(df):\n",
    "    display(df.describe())\n",
    "    plot_numeric_features(df)\n",
    "    phik_matrix(df)"
   ]
  },
  {
   "cell_type": "code",
   "execution_count": 13,
   "metadata": {},
   "outputs": [
    {
     "data": {
      "text/html": [
       "<div>\n",
       "<style scoped>\n",
       "    .dataframe tbody tr th:only-of-type {\n",
       "        vertical-align: middle;\n",
       "    }\n",
       "\n",
       "    .dataframe tbody tr th {\n",
       "        vertical-align: top;\n",
       "    }\n",
       "\n",
       "    .dataframe thead th {\n",
       "        text-align: right;\n",
       "    }\n",
       "</style>\n",
       "<table border=\"1\" class=\"dataframe\">\n",
       "  <thead>\n",
       "    <tr style=\"text-align: right;\">\n",
       "      <th></th>\n",
       "      <th>f0</th>\n",
       "      <th>f1</th>\n",
       "      <th>f2</th>\n",
       "      <th>product</th>\n",
       "    </tr>\n",
       "  </thead>\n",
       "  <tbody>\n",
       "    <tr>\n",
       "      <th>count</th>\n",
       "      <td>100000.000000</td>\n",
       "      <td>100000.000000</td>\n",
       "      <td>100000.000000</td>\n",
       "      <td>100000.000000</td>\n",
       "    </tr>\n",
       "    <tr>\n",
       "      <th>mean</th>\n",
       "      <td>0.500419</td>\n",
       "      <td>0.250143</td>\n",
       "      <td>2.502647</td>\n",
       "      <td>92.500000</td>\n",
       "    </tr>\n",
       "    <tr>\n",
       "      <th>std</th>\n",
       "      <td>0.871832</td>\n",
       "      <td>0.504433</td>\n",
       "      <td>3.248248</td>\n",
       "      <td>44.288691</td>\n",
       "    </tr>\n",
       "    <tr>\n",
       "      <th>min</th>\n",
       "      <td>-1.408605</td>\n",
       "      <td>-0.848218</td>\n",
       "      <td>-12.088328</td>\n",
       "      <td>0.000000</td>\n",
       "    </tr>\n",
       "    <tr>\n",
       "      <th>25%</th>\n",
       "      <td>-0.072580</td>\n",
       "      <td>-0.200881</td>\n",
       "      <td>0.287748</td>\n",
       "      <td>56.497507</td>\n",
       "    </tr>\n",
       "    <tr>\n",
       "      <th>50%</th>\n",
       "      <td>0.502360</td>\n",
       "      <td>0.250252</td>\n",
       "      <td>2.515969</td>\n",
       "      <td>91.849972</td>\n",
       "    </tr>\n",
       "    <tr>\n",
       "      <th>75%</th>\n",
       "      <td>1.073581</td>\n",
       "      <td>0.700646</td>\n",
       "      <td>4.715088</td>\n",
       "      <td>128.564089</td>\n",
       "    </tr>\n",
       "    <tr>\n",
       "      <th>max</th>\n",
       "      <td>2.362331</td>\n",
       "      <td>1.343769</td>\n",
       "      <td>16.003790</td>\n",
       "      <td>185.364347</td>\n",
       "    </tr>\n",
       "  </tbody>\n",
       "</table>\n",
       "</div>"
      ],
      "text/plain": [
       "                  f0             f1             f2        product\n",
       "count  100000.000000  100000.000000  100000.000000  100000.000000\n",
       "mean        0.500419       0.250143       2.502647      92.500000\n",
       "std         0.871832       0.504433       3.248248      44.288691\n",
       "min        -1.408605      -0.848218     -12.088328       0.000000\n",
       "25%        -0.072580      -0.200881       0.287748      56.497507\n",
       "50%         0.502360       0.250252       2.515969      91.849972\n",
       "75%         1.073581       0.700646       4.715088     128.564089\n",
       "max         2.362331       1.343769      16.003790     185.364347"
      ]
     },
     "metadata": {},
     "output_type": "display_data"
    },
    {
     "data": {
      "image/png": "[encoded data removed]",
      "text/plain": [
       "<Figure size 576x288 with 1 Axes>"
      ]
     },
     "metadata": {
      "needs_background": "light"
     },
     "output_type": "display_data"
    },
    {
     "data": {
      "image/png": "[encoded data removed]",
      "text/plain": [
       "<Figure size 576x288 with 1 Axes>"
      ]
     },
     "metadata": {
      "needs_background": "light"
     },
     "output_type": "display_data"
    },
    {
     "data": {
      "image/png": "[encoded data removed]",
      "text/plain": [
       "<Figure size 576x288 with 1 Axes>"
      ]
     },
     "metadata": {
      "needs_background": "light"
     },
     "output_type": "display_data"
    },
    {
     "data": {
      "image/png": "[encoded data removed]",
      "text/plain": [
       "<Figure size 576x288 with 1 Axes>"
      ]
     },
     "metadata": {
      "needs_background": "light"
     },
     "output_type": "display_data"
    },
    {
     "data": {
      "image/png": "[encoded data removed]",
      "text/plain": [
       "<Figure size 576x288 with 1 Axes>"
      ]
     },
     "metadata": {
      "needs_background": "light"
     },
     "output_type": "display_data"
    },
    {
     "data": {
      "image/png": "[encoded data removed]",
      "text/plain": [
       "<Figure size 576x288 with 1 Axes>"
      ]
     },
     "metadata": {
      "needs_background": "light"
     },
     "output_type": "display_data"
    },
    {
     "data": {
      "image/png": "[encoded data removed]",
      "text/plain": [
       "<Figure size 576x288 with 1 Axes>"
      ]
     },
     "metadata": {
      "needs_background": "light"
     },
     "output_type": "display_data"
    },
    {
     "data": {
      "image/png": "[encoded data removed]",
      "text/plain": [
       "<Figure size 576x288 with 1 Axes>"
      ]
     },
     "metadata": {
      "needs_background": "light"
     },
     "output_type": "display_data"
    },
    {
     "data": {
      "image/png": "[encoded data removed]",
      "text/plain": [
       "<Figure size 864x576 with 2 Axes>"
      ]
     },
     "metadata": {
      "needs_background": "light"
     },
     "output_type": "display_data"
    }
   ],
   "source": [
    "exp_analyses(df_geo_data_0)"
   ]
  },
  {
   "cell_type": "markdown",
   "metadata": {},
   "source": [
    "Распределение всех признаков в df_geo_data_0 нормальное. У признака f2 имеется много выбросов. Сильных корелляций между признаками не выявлено"
   ]
  },
  {
   "cell_type": "code",
   "execution_count": 14,
   "metadata": {},
   "outputs": [
    {
     "data": {
      "text/html": [
       "<div>\n",
       "<style scoped>\n",
       "    .dataframe tbody tr th:only-of-type {\n",
       "        vertical-align: middle;\n",
       "    }\n",
       "\n",
       "    .dataframe tbody tr th {\n",
       "        vertical-align: top;\n",
       "    }\n",
       "\n",
       "    .dataframe thead th {\n",
       "        text-align: right;\n",
       "    }\n",
       "</style>\n",
       "<table border=\"1\" class=\"dataframe\">\n",
       "  <thead>\n",
       "    <tr style=\"text-align: right;\">\n",
       "      <th></th>\n",
       "      <th>f0</th>\n",
       "      <th>f1</th>\n",
       "      <th>f2</th>\n",
       "      <th>product</th>\n",
       "    </tr>\n",
       "  </thead>\n",
       "  <tbody>\n",
       "    <tr>\n",
       "      <th>count</th>\n",
       "      <td>100000.000000</td>\n",
       "      <td>100000.000000</td>\n",
       "      <td>100000.000000</td>\n",
       "      <td>100000.000000</td>\n",
       "    </tr>\n",
       "    <tr>\n",
       "      <th>mean</th>\n",
       "      <td>1.141296</td>\n",
       "      <td>-4.796579</td>\n",
       "      <td>2.494541</td>\n",
       "      <td>68.825000</td>\n",
       "    </tr>\n",
       "    <tr>\n",
       "      <th>std</th>\n",
       "      <td>8.965932</td>\n",
       "      <td>5.119872</td>\n",
       "      <td>1.703572</td>\n",
       "      <td>45.944423</td>\n",
       "    </tr>\n",
       "    <tr>\n",
       "      <th>min</th>\n",
       "      <td>-31.609576</td>\n",
       "      <td>-26.358598</td>\n",
       "      <td>-0.018144</td>\n",
       "      <td>0.000000</td>\n",
       "    </tr>\n",
       "    <tr>\n",
       "      <th>25%</th>\n",
       "      <td>-6.298551</td>\n",
       "      <td>-8.267985</td>\n",
       "      <td>1.000021</td>\n",
       "      <td>26.953261</td>\n",
       "    </tr>\n",
       "    <tr>\n",
       "      <th>50%</th>\n",
       "      <td>1.153055</td>\n",
       "      <td>-4.813172</td>\n",
       "      <td>2.011479</td>\n",
       "      <td>57.085625</td>\n",
       "    </tr>\n",
       "    <tr>\n",
       "      <th>75%</th>\n",
       "      <td>8.621015</td>\n",
       "      <td>-1.332816</td>\n",
       "      <td>3.999904</td>\n",
       "      <td>107.813044</td>\n",
       "    </tr>\n",
       "    <tr>\n",
       "      <th>max</th>\n",
       "      <td>29.421755</td>\n",
       "      <td>18.734063</td>\n",
       "      <td>5.019721</td>\n",
       "      <td>137.945408</td>\n",
       "    </tr>\n",
       "  </tbody>\n",
       "</table>\n",
       "</div>"
      ],
      "text/plain": [
       "                  f0             f1             f2        product\n",
       "count  100000.000000  100000.000000  100000.000000  100000.000000\n",
       "mean        1.141296      -4.796579       2.494541      68.825000\n",
       "std         8.965932       5.119872       1.703572      45.944423\n",
       "min       -31.609576     -26.358598      -0.018144       0.000000\n",
       "25%        -6.298551      -8.267985       1.000021      26.953261\n",
       "50%         1.153055      -4.813172       2.011479      57.085625\n",
       "75%         8.621015      -1.332816       3.999904     107.813044\n",
       "max        29.421755      18.734063       5.019721     137.945408"
      ]
     },
     "metadata": {},
     "output_type": "display_data"
    },
    {
     "data": {
      "image/png": "[encoded data removed]",
      "text/plain": [
       "<Figure size 576x288 with 1 Axes>"
      ]
     },
     "metadata": {
      "needs_background": "light"
     },
     "output_type": "display_data"
    },
    {
     "data": {
      "image/png": "[encoded data removed]",
      "text/plain": [
       "<Figure size 576x288 with 1 Axes>"
      ]
     },
     "metadata": {
      "needs_background": "light"
     },
     "output_type": "display_data"
    },
    {
     "data": {
      "image/png": "[encoded data removed]",
      "text/plain": [
       "<Figure size 576x288 with 1 Axes>"
      ]
     },
     "metadata": {
      "needs_background": "light"
     },
     "output_type": "display_data"
    },
    {
     "data": {
      "image/png": "[encoded data removed]",
      "text/plain": [
       "<Figure size 576x288 with 1 Axes>"
      ]
     },
     "metadata": {
      "needs_background": "light"
     },
     "output_type": "display_data"
    },
    {
     "data": {
      "image/png": "[encoded data removed]",
      "text/plain": [
       "<Figure size 576x288 with 1 Axes>"
      ]
     },
     "metadata": {
      "needs_background": "light"
     },
     "output_type": "display_data"
    },
    {
     "data": {
      "image/png": "[encoded data removed]",
      "text/plain": [
       "<Figure size 576x288 with 1 Axes>"
      ]
     },
     "metadata": {
      "needs_background": "light"
     },
     "output_type": "display_data"
    },
    {
     "data": {
      "image/png": "[encoded data removed]",
      "text/plain": [
       "<Figure size 576x288 with 1 Axes>"
      ]
     },
     "metadata": {
      "needs_background": "light"
     },
     "output_type": "display_data"
    },
    {
     "data": {
      "image/png": "[encoded data removed]",
      "text/plain": [
       "<Figure size 576x288 with 1 Axes>"
      ]
     },
     "metadata": {
      "needs_background": "light"
     },
     "output_type": "display_data"
    },
    {
     "data": {
      "image/png": "[encoded data removed]",
      "text/plain": [
       "<Figure size 864x576 with 2 Axes>"
      ]
     },
     "metadata": {
      "needs_background": "light"
     },
     "output_type": "display_data"
    }
   ],
   "source": [
    "exp_analyses(df_geo_data_1)"
   ]
  },
  {
   "cell_type": "markdown",
   "metadata": {},
   "source": [
    "В df_geo_data_1 признаки f0 и f1 распределены нормально. В f1 много выбросов. В столбцах f2 и product данные распределены странно. В f2 они группируются вокруг целых значений. А в product они распределены не нормально наибольшее количество значений в области минимума и максимума. Сильно кореллируют признаки f2 и prodict"
   ]
  },
  {
   "cell_type": "code",
   "execution_count": 15,
   "metadata": {},
   "outputs": [
    {
     "data": {
      "text/html": [
       "<div>\n",
       "<style scoped>\n",
       "    .dataframe tbody tr th:only-of-type {\n",
       "        vertical-align: middle;\n",
       "    }\n",
       "\n",
       "    .dataframe tbody tr th {\n",
       "        vertical-align: top;\n",
       "    }\n",
       "\n",
       "    .dataframe thead th {\n",
       "        text-align: right;\n",
       "    }\n",
       "</style>\n",
       "<table border=\"1\" class=\"dataframe\">\n",
       "  <thead>\n",
       "    <tr style=\"text-align: right;\">\n",
       "      <th></th>\n",
       "      <th>f0</th>\n",
       "      <th>f1</th>\n",
       "      <th>f2</th>\n",
       "      <th>product</th>\n",
       "    </tr>\n",
       "  </thead>\n",
       "  <tbody>\n",
       "    <tr>\n",
       "      <th>count</th>\n",
       "      <td>100000.000000</td>\n",
       "      <td>100000.000000</td>\n",
       "      <td>100000.000000</td>\n",
       "      <td>100000.000000</td>\n",
       "    </tr>\n",
       "    <tr>\n",
       "      <th>mean</th>\n",
       "      <td>0.002023</td>\n",
       "      <td>-0.002081</td>\n",
       "      <td>2.495128</td>\n",
       "      <td>95.000000</td>\n",
       "    </tr>\n",
       "    <tr>\n",
       "      <th>std</th>\n",
       "      <td>1.732045</td>\n",
       "      <td>1.730417</td>\n",
       "      <td>3.473445</td>\n",
       "      <td>44.749921</td>\n",
       "    </tr>\n",
       "    <tr>\n",
       "      <th>min</th>\n",
       "      <td>-8.760004</td>\n",
       "      <td>-7.084020</td>\n",
       "      <td>-11.970335</td>\n",
       "      <td>0.000000</td>\n",
       "    </tr>\n",
       "    <tr>\n",
       "      <th>25%</th>\n",
       "      <td>-1.162288</td>\n",
       "      <td>-1.174820</td>\n",
       "      <td>0.130359</td>\n",
       "      <td>59.450441</td>\n",
       "    </tr>\n",
       "    <tr>\n",
       "      <th>50%</th>\n",
       "      <td>0.009424</td>\n",
       "      <td>-0.009482</td>\n",
       "      <td>2.484236</td>\n",
       "      <td>94.925613</td>\n",
       "    </tr>\n",
       "    <tr>\n",
       "      <th>75%</th>\n",
       "      <td>1.158535</td>\n",
       "      <td>1.163678</td>\n",
       "      <td>4.858794</td>\n",
       "      <td>130.595027</td>\n",
       "    </tr>\n",
       "    <tr>\n",
       "      <th>max</th>\n",
       "      <td>7.238262</td>\n",
       "      <td>7.844801</td>\n",
       "      <td>16.739402</td>\n",
       "      <td>190.029838</td>\n",
       "    </tr>\n",
       "  </tbody>\n",
       "</table>\n",
       "</div>"
      ],
      "text/plain": [
       "                  f0             f1             f2        product\n",
       "count  100000.000000  100000.000000  100000.000000  100000.000000\n",
       "mean        0.002023      -0.002081       2.495128      95.000000\n",
       "std         1.732045       1.730417       3.473445      44.749921\n",
       "min        -8.760004      -7.084020     -11.970335       0.000000\n",
       "25%        -1.162288      -1.174820       0.130359      59.450441\n",
       "50%         0.009424      -0.009482       2.484236      94.925613\n",
       "75%         1.158535       1.163678       4.858794     130.595027\n",
       "max         7.238262       7.844801      16.739402     190.029838"
      ]
     },
     "metadata": {},
     "output_type": "display_data"
    },
    {
     "data": {
      "image/png": "[encoded data removed]",
      "text/plain": [
       "<Figure size 576x288 with 1 Axes>"
      ]
     },
     "metadata": {
      "needs_background": "light"
     },
     "output_type": "display_data"
    },
    {
     "data": {
      "image/png": "[encoded data removed]",
      "text/plain": [
       "<Figure size 576x288 with 1 Axes>"
      ]
     },
     "metadata": {
      "needs_background": "light"
     },
     "output_type": "display_data"
    },
    {
     "data": {
      "image/png": "[encoded data removed]",
      "text/plain": [
       "<Figure size 576x288 with 1 Axes>"
      ]
     },
     "metadata": {
      "needs_background": "light"
     },
     "output_type": "display_data"
    },
    {
     "data": {
      "image/png": "[encoded data removed]",
      "text/plain": [
       "<Figure size 576x288 with 1 Axes>"
      ]
     },
     "metadata": {
      "needs_background": "light"
     },
     "output_type": "display_data"
    },
    {
     "data": {
      "image/png": "[encoded data removed]",
      "text/plain": [
       "<Figure size 576x288 with 1 Axes>"
      ]
     },
     "metadata": {
      "needs_background": "light"
     },
     "output_type": "display_data"
    },
    {
     "data": {
      "image/png": "[encoded data removed]",
      "text/plain": [
       "<Figure size 576x288 with 1 Axes>"
      ]
     },
     "metadata": {
      "needs_background": "light"
     },
     "output_type": "display_data"
    },
    {
     "data": {
      "image/png": "[encoded data removed]",
      "text/plain": [
       "<Figure size 576x288 with 1 Axes>"
      ]
     },
     "metadata": {
      "needs_background": "light"
     },
     "output_type": "display_data"
    },
    {
     "data": {
      "image/png": "[encoded data removed]",
      "text/plain": [
       "<Figure size 576x288 with 1 Axes>"
      ]
     },
     "metadata": {
      "needs_background": "light"
     },
     "output_type": "display_data"
    },
    {
     "data": {
      "image/png": "[encoded data removed]",
      "text/plain": [
       "<Figure size 864x576 with 2 Axes>"
      ]
     },
     "metadata": {
      "needs_background": "light"
     },
     "output_type": "display_data"
    }
   ],
   "source": [
    "exp_analyses(df_geo_data_2)"
   ]
  },
  {
   "cell_type": "markdown",
   "metadata": {},
   "source": [
    "В df_geo_data_2 признаки распределены нормально. В f0, f1 и f2 много выбросов. Сильных корелляций между признаками не обнаружено"
   ]
  },
  {
   "cell_type": "markdown",
   "metadata": {},
   "source": [
    "**Выводы**\n",
    "\n",
    "Распределение скважин в первом и третьем регионах стремится к нормальному, тогда как во втором регионе наблюдается аномальное распределение: значения варьируются от 0 до 5 баррелей с равномерными интервалами в 15-20 и составляют 100000 единиц данных. Также было обнаружено, что во втором регионе существует значительная корреляция между характеристикой f2 и объемом добычи."
   ]
  },
  {
   "cell_type": "markdown",
   "metadata": {},
   "source": [
    "<div class=\"alert alert-block alert-success\">\n",
    "<b>Успех:</b> Данные загружены и осмотрены корректно.\n",
    "</div>"
   ]
  },
  {
   "cell_type": "markdown",
   "metadata": {},
   "source": [
    "## Обучение и проверка модели"
   ]
  },
  {
   "cell_type": "code",
   "execution_count": 16,
   "metadata": {},
   "outputs": [
    {
     "name": "stdout",
     "output_type": "stream",
     "text": [
      "\n",
      "Для df_geo_data_0 региона:\n",
      "Средний запас фактического сырья = 92.33 тыс. баррелей\n",
      "Средний запас предсказанного сырья = 92.40 тыс. баррелей\n",
      "Разница = 0.08%\n",
      "RMSE модели = 37.76\n",
      "\n",
      "Для df_geo_data_1 региона:\n",
      "Средний запас фактического сырья = 68.73 тыс. баррелей\n",
      "Средний запас предсказанного сырья = 68.71 тыс. баррелей\n",
      "Разница = -0.02%\n",
      "RMSE модели = 0.89\n",
      "\n",
      "Для df_geo_data_2 региона:\n",
      "Средний запас фактического сырья = 95.15 тыс. баррелей\n",
      "Средний запас предсказанного сырья = 94.77 тыс. баррелей\n",
      "Разница = -0.40%\n",
      "RMSE модели = 40.15\n"
     ]
    }
   ],
   "source": [
    "names = ['df_geo_data_0', 'df_geo_data_1', 'df_geo_data_2']\n",
    "data = [df_geo_data_0, df_geo_data_1, df_geo_data_2]\n",
    "\n",
    "# Создадим словарь для хранения фактических и предсказанных значений для валидирующего набора данных\n",
    "targets = {}\n",
    "\n",
    "for name, dataset in zip(names, data):\n",
    "    target = dataset['product']\n",
    "    features = dataset.drop('product', axis=1)\n",
    "    \n",
    "    # Разделим данные на обучающие и валидационные наборы\n",
    "    features_train, features_valid, target_train, target_valid = train_test_split(\n",
    "        features, target, test_size=0.25, random_state=42\n",
    "    )\n",
    "    \n",
    "    # Создаем последовательность обработки и модели линейной регрессии\n",
    "    model = make_pipeline(StandardScaler(), LinearRegression())\n",
    "    \n",
    "    # Обучаем модель\n",
    "    model.fit(features_train, target_train)\n",
    "    \n",
    "    # Записываем фактические и предсказанные данные в словарь\n",
    "    predictions = model.predict(features_valid)\n",
    "    targets[name] = (target_valid, pd.Series(predictions, index=target_valid.index, name='product_predicted'))\n",
    "    \n",
    "    # Печатаем на экране средний запас фактического и предсказанного сырья, а также RMSE\n",
    "    print(f'\\nДля {name} региона:')\n",
    "    print(f'Средний запас фактического сырья = {targets[name][0].mean():.2f} тыс. баррелей')\n",
    "    print(f'Средний запас предсказанного сырья = {targets[name][1].mean():.2f} тыс. баррелей')\n",
    "    print(f'Разница = {(1 - targets[name][0].mean() / targets[name][1].mean()):.2%}')\n",
    "    print(f'RMSE модели = {mean_squared_error(target_valid, targets[name][1]) ** 0.5:.2f}')"
   ]
  },
  {
   "cell_type": "markdown",
   "metadata": {},
   "source": [
    "**Вывод** \n",
    "\n",
    "Данные предсказаний о количестве нефти по сумме примерно совпадают по сумме с предсказанными значениями. Лучше всего модель предсказала запасы во втором регионе (RMSE - 0.89).  В то же время, для датасетов df_geo_data_0 и df_geo_data_2 RMSE значительно выше и составляет 37.76 и 40.15 соответственно. Эти показатели указывают на значительный разброс в целевых значениях, что означает, что предсказанные данные для этих наборов не в полной мере отражают реальные запасы сырья с высокой степенью точности. "
   ]
  },
  {
   "cell_type": "markdown",
   "metadata": {},
   "source": [
    "<div class=\"alert alert-block alert-success\">\n",
    "<b>Успех:</b> Модели обучены корректно. Радует, что ты активно используешь циклы. Это помогает избежать дублирования кода, а значит уменьшает вероятность совершить ошибку/опечатку!\n",
    "</div>"
   ]
  },
  {
   "cell_type": "markdown",
   "metadata": {},
   "source": [
    "## Подготовка к расчёту прибыли"
   ]
  },
  {
   "cell_type": "markdown",
   "metadata": {},
   "source": [
    "Все ключевые значения для расчётов сохраняю в отдельных переменных."
   ]
  },
  {
   "cell_type": "code",
   "execution_count": 17,
   "metadata": {},
   "outputs": [],
   "source": [
    "POINTS = 500 # количество скважин, которое исследуют при разведке региона\n",
    "BEST_POINTS = 200 # количество лучших скважин, которые нужно выбрать для разработки в каждом регионе с помощью машинного обучения\n",
    "BUDGET = 10000000000 # бюджет (расходы) на разработку скважин в регионе (тыс. рублей), заложенный на 200 скважин\n",
    "BARREL_PRICE = 450000 # доход с каждой единицы продукта (тыс. рублей на 1 тыс. баррелей)\n",
    "THRESHOLD = 0.025"
   ]
  },
  {
   "cell_type": "code",
   "execution_count": 18,
   "metadata": {},
   "outputs": [
    {
     "name": "stdout",
     "output_type": "stream",
     "text": [
      "Достаточный объём сырья для безубыточной разработки = 111.11 тыс. баррелей.\n",
      "\n",
      "Средний запас в df_geo_data_0 регионе = 92.50 тыс. баррелей.\n",
      "Процент скважин с объёмом больше чем порог = 36.58%\n",
      "Количество скважин в объёмом больше чем порог = 36583\n",
      "\n",
      "Средний запас в df_geo_data_1 регионе = 68.83 тыс. баррелей.\n",
      "Процент скважин с объёмом больше чем порог = 16.54%\n",
      "Количество скважин в объёмом больше чем порог = 16537\n",
      "\n",
      "Средний запас в df_geo_data_2 регионе = 95.00 тыс. баррелей.\n",
      "Процент скважин с объёмом больше чем порог = 38.18%\n",
      "Количество скважин в объёмом больше чем порог = 38178\n"
     ]
    }
   ],
   "source": [
    "break_even = BUDGET / (BARREL_PRICE * BEST_POINTS)\n",
    "print(f'Достаточный объём сырья для безубыточной разработки = {break_even:.2f} тыс. баррелей.')\n",
    "\n",
    "for name, data in zip(names, data):\n",
    "    print()\n",
    "    print(f'Средний запас в {name} регионе = {data[\"product\"].mean():.2f} тыс. баррелей.')\n",
    "    print(f'Процент скважин с объёмом больше чем порог = {len(data.query(\"product > @break_even\")) / len(data):.2%}')\n",
    "    print(f'Количество скважин в объёмом больше чем порог = {len(data.query(\"product > @break_even\"))}')"
   ]
  },
  {
   "cell_type": "markdown",
   "metadata": {},
   "source": [
    "**Вывод:**\n",
    "\n",
    "Для того чтобы вернуть вложенные средства в разработку, скважины, отобранные с помощью модели, должны обладать запасами, значительно превышающими установленную пороговую величину. Это обусловлено тем, что в текущих условиях доля скважин с запасами, превышающими этот порог, составляет всего лишь 40% во всех регионах. Средняя точка безубыточности составляет приблизительно 111.11 тысяч баррелей на скважину, в то время как средние запасы колеблются в пределах от 68 до 95 тысяч баррелей на регион. Более того, из общего числа 500 скважин лишь 200, или 40%, демонстрируют запасы, превышающие установленный порог."
   ]
  },
  {
   "cell_type": "markdown",
   "metadata": {},
   "source": [
    "## Расчёт прибыли и рисков "
   ]
  },
  {
   "cell_type": "code",
   "execution_count": 20,
   "metadata": {},
   "outputs": [],
   "source": [
    "def profit(target, probabilities, count):\n",
    "    # Сортировка вероятностей в порядке убывания и выбор нужного количества\n",
    "    probs_sorted = probabilities.sort_values(ascending=False)[:count]\n",
    "    \n",
    "    # Отобранные целевые значения по индексам отсортированных вероятностей\n",
    "    selected = target[probs_sorted.index]\n",
    "    \n",
    "    # Если размер массива selected меньше 200, дополняем его\n",
    "    if selected.size < 200:\n",
    "        # Дополним нулями или значением по умолчанию (например, -1)\n",
    "        selected = selected.append(pd.Series([0] * (200 - selected.size)), ignore_index=True)\n",
    "    elif selected.size > 200:\n",
    "        # Если размер выбранных значений больше 200, обрезаем до 200\n",
    "        selected = selected[:200]\n",
    "    \n",
    "    # Сумма выбранных значений\n",
    "    product = selected.sum()\n",
    "    \n",
    "    # Выручка\n",
    "    revenue = product * BARREL_PRICE\n",
    "    \n",
    "    # Прибыль\n",
    "    return revenue - BUDGET"
   ]
  },
  {
   "cell_type": "code",
   "execution_count": 21,
   "metadata": {},
   "outputs": [
    {
     "data": {
      "application/vnd.jupyter.widget-view+json": {
       "model_id": "2bc3990127764737a6f5a8574d9d9ba1",
       "version_major": 2,
       "version_minor": 0
      },
      "text/plain": [
       "Обработка регионов:   0%|          | 0/3 [00:00<?, ?it/s]"
      ]
     },
     "metadata": {},
     "output_type": "display_data"
    },
    {
     "data": {
      "image/png": "[encoded data removed]",
      "text/plain": [
       "<Figure size 1152x360 with 1 Axes>"
      ]
     },
     "metadata": {
      "needs_background": "light"
     },
     "output_type": "display_data"
    },
    {
     "name": "stdout",
     "output_type": "stream",
     "text": [
      "Для региона df_geo_data_0:\n",
      "Средняя валовая прибыль с 200 лучших скважин, отобранных по предсказанию = 44 млн. рублей.\n",
      "Доверительный интервал составляет от -11 до 103 млн. рублей.\n",
      "Риск убытков составляет = 5.90%\n"
     ]
    },
    {
     "data": {
      "image/png": "[encoded data removed]",
      "text/plain": [
       "<Figure size 1152x360 with 1 Axes>"
      ]
     },
     "metadata": {
      "needs_background": "light"
     },
     "output_type": "display_data"
    },
    {
     "name": "stdout",
     "output_type": "stream",
     "text": [
      "Для региона df_geo_data_1:\n",
      "Средняя валовая прибыль с 200 лучших скважин, отобранных по предсказанию = 50 млн. рублей.\n",
      "Доверительный интервал составляет от 8 до 95 млн. рублей.\n",
      "Риск убытков составляет = 1.20%\n"
     ]
    },
    {
     "data": {
      "image/png": "[encoded data removed]",
      "text/plain": [
       "<Figure size 1152x360 with 1 Axes>"
      ]
     },
     "metadata": {
      "needs_background": "light"
     },
     "output_type": "display_data"
    },
    {
     "name": "stdout",
     "output_type": "stream",
     "text": [
      "Для региона df_geo_data_2:\n",
      "Средняя валовая прибыль с 200 лучших скважин, отобранных по предсказанию = 40 млн. рублей.\n",
      "Доверительный интервал составляет от -16 до 97 млн. рублей.\n",
      "Риск убытков составляет = 8.60%\n"
     ]
    }
   ],
   "source": [
    "for name in tqdm(names, desc='Обработка регионов'):\n",
    "    values = []\n",
    "    \n",
    "    # 1000 выборок для оценки прибыли\n",
    "    for _ in range(1000):\n",
    "        # Случайное подвыборка целевых значений\n",
    "        target_subsample = targets[name][0].sample(POINTS, replace=True, random_state=np.random.RandomState())\n",
    "        \n",
    "        # вероятности для подвыборки\n",
    "        probs_subsample = targets[name][1][target_subsample.index]\n",
    "\n",
    "        values.append(profit(target_subsample, probs_subsample, BEST_POINTS))\n",
    "\n",
    "    values = pd.Series(values)\n",
    "    \n",
    "    # Вычисляем среднюю прибыль и доверительные интервалы\n",
    "    mean = values.mean() / 10000000\n",
    "    lower = values.quantile(0.025) / 10000000\n",
    "    upper = values.quantile(0.975) / 10000000\n",
    "    \n",
    "    # расчет риска убытков\n",
    "    #risk = values.apply(lambda x: x < 0).sum() / len(values)\n",
    "    risk = (values < 0).mean()\n",
    "    \n",
    "    # визуализация распределения прибыли\n",
    "    plt.figure(figsize=(16, 5))\n",
    "    values.hist(bins=50, alpha=0.7)\n",
    "    plt.grid(True)\n",
    "    plt.axvline(values.quantile(0.025), color='violet', label='Нижняя граница 95%-го доверительного интервала')\n",
    "    plt.axvline(values.quantile(0.975), color='yellow', label='Верхняя граница 95%-го доверительного интервала')\n",
    "    plt.legend()\n",
    "    plt.xlabel('Прибыль, руб.')\n",
    "    plt.ylabel('Количество скважин из 200')\n",
    "    plt.title(f'Распределение прибыли для региона {name}')\n",
    "    plt.show()\n",
    "\n",
    "    print(f'Для региона {name}:')\n",
    "    print(f'Средняя валовая прибыль с 200 лучших скважин, отобранных по предсказанию = {mean:.0f} млн. рублей.')\n",
    "    print(f'Доверительный интервал составляет от {lower:.0f} до {upper:.0f} млн. рублей.')\n",
    "    print(f'Риск убытков составляет = {risk:.2%}')"
   ]
  },
  {
   "cell_type": "markdown",
   "metadata": {},
   "source": [
    "##### **Вывод**\n",
    "\n",
    "Оптимальным выбором для разработки скважин является регион df_geo_data_1. Он предлагает наивысшую среднюю валовую прибыль (50 миллионов рублей) и одновременно наименьший риск убытков (1.10%). Хотя доверительный интервал также имеет значительное распределение, верхняя граница в 92 миллионов рублей может указать на хорошие возможности для доходности.\n",
    "\n",
    "Выбор региона df_geo_data_1 сбалансирован с учетом потенциальной прибыли и приемлемого уровня риска, что делает его самым привлекательным вариантом для инвестиций в разработку скважин.\n"
   ]
  },
  {
   "cell_type": "markdown",
   "metadata": {},
   "source": [
    "## Общий вывод"
   ]
  },
  {
   "cell_type": "markdown",
   "metadata": {},
   "source": [
    "В ходе данного исследования было необходимо построить модель машинного обучения, которая поможет определить регион, где добыча принесёт наибольшую прибыль. Проанализировать возможную прибыль и риски техникой Bootstrap.\n",
    "\n",
    "Работа состояла из нескольких этапов:\n",
    "1. Загрузка и подготовка данных: \n",
    "- Во всех трех датафреймах по 10000 строк. Пропуски отсутствуют. Названия столбцов корректны\n",
    "- В ходе предобработки данных в датафреймах удален столбец с id\n",
    "- Распределение скважин в первом и третьем регионах стремится к нормальному, тогда как во втором регионе наблюдается аномальное распределение: значения варьируются от 0 до 5 баррелей с равномерными интервалами в 15-20 и составляют 100000 единиц данных. Также было обнаружено, что во втором регионе существует значительная корреляция между характеристикой f2 и объемом добычи.\n",
    "2. Обучение моделей, выбор лучшей, проверка качества\n",
    "- Данные предсказаний о количестве нефти по сумме примерно совпадают по сумме с предсказанными значениями. Лучше всего модель предсказала запасы во втором регионе (RMSE - 0.89).  В то же время, для датасетов df_geo_data_0 и df_geo_data_2 RMSE значительно выше и составляет 37.76 и 40.15 соответственно. Эти показатели указывают на значительный разброс в целевых значениях, что означает, что предсказанные данные для этих наборов не в полной мере отражают реальные запасы сырья с высокой степенью точности. \n",
    "3. Подготовка к рассчету прибыли\n",
    "- Для того чтобы вернуть вложенные средства в разработку, скважины, отобранные с помощью модели, должны обладать запасами, значительно превышающими установленную пороговую величину. Это обусловлено тем, что в текущих условиях доля скважин с запасами, превышающими этот порог, составляет всего лишь 40% во всех регионах. Средняя точка безубыточности составляет приблизительно 111.11 тысяч баррелей на скважину, в то время как средние запасы колеблются в пределах от 68 до 95 тысяч баррелей на регион. Более того, из общего числа 500 скважин лишь 200, или 40%, демонстрируют запасы, превышающие установленный порог.\n",
    "4. Расчет прибыли и рисков\n",
    "- Оптимальным выбором для разработки скважин является регион df_geo_data_1. Он предлагает наивысшую среднюю валовую прибыль (50 миллионов рублей) и одновременно наименьший риск убытков (1.10%). Хотя доверительный интервал также имеет значительное распределение, верхняя граница в 92 миллионов рублей может указать на хорошие возможности для доходности. Выбор региона df_geo_data_1 сбалансирован с учетом потенциальной прибыли и приемлемого уровня риска, что делает его самым привлекательным вариантом для инвестиций в разработку скважин.\n"
   ]
  }
 ],
 "metadata": {
  "ExecuteTimeLog": [
   {
    "duration": 14122,
    "start_time": "2025-02-27T14:08:02.956Z"
   },
   {
    "duration": 642,
    "start_time": "2025-02-27T14:12:10.457Z"
   },
   {
    "duration": 3,
    "start_time": "2025-02-27T14:12:27.209Z"
   },
   {
    "duration": 69,
    "start_time": "2025-02-27T14:12:57.040Z"
   },
   {
    "duration": 58,
    "start_time": "2025-02-27T14:15:37.353Z"
   },
   {
    "duration": 56,
    "start_time": "2025-02-27T14:16:28.745Z"
   },
   {
    "duration": 47,
    "start_time": "2025-03-03T12:55:51.544Z"
   },
   {
    "duration": 13521,
    "start_time": "2025-03-03T12:56:02.797Z"
   },
   {
    "duration": 424,
    "start_time": "2025-03-03T12:56:16.319Z"
   },
   {
    "duration": 4,
    "start_time": "2025-03-03T12:56:16.745Z"
   },
   {
    "duration": 92,
    "start_time": "2025-03-03T12:56:16.751Z"
   },
   {
    "duration": 71,
    "start_time": "2025-03-03T12:56:16.844Z"
   },
   {
    "duration": 55,
    "start_time": "2025-03-03T12:56:16.917Z"
   },
   {
    "duration": 160,
    "start_time": "2025-03-03T12:56:16.974Z"
   },
   {
    "duration": 37,
    "start_time": "2025-03-03T12:58:14.556Z"
   },
   {
    "duration": 21,
    "start_time": "2025-03-03T12:58:20.797Z"
   },
   {
    "duration": 7005,
    "start_time": "2025-03-03T12:58:32.520Z"
   },
   {
    "duration": 403,
    "start_time": "2025-03-03T12:58:39.527Z"
   },
   {
    "duration": 4,
    "start_time": "2025-03-03T12:58:39.931Z"
   },
   {
    "duration": 78,
    "start_time": "2025-03-03T12:58:39.937Z"
   },
   {
    "duration": 53,
    "start_time": "2025-03-03T12:58:40.017Z"
   },
   {
    "duration": 73,
    "start_time": "2025-03-03T12:58:40.072Z"
   },
   {
    "duration": 33,
    "start_time": "2025-03-03T12:58:40.147Z"
   },
   {
    "duration": 31,
    "start_time": "2025-03-03T13:06:33.232Z"
   },
   {
    "duration": 96,
    "start_time": "2025-03-03T13:07:08.503Z"
   },
   {
    "duration": 23,
    "start_time": "2025-03-03T13:13:23.232Z"
   },
   {
    "duration": 25,
    "start_time": "2025-03-03T13:13:38.520Z"
   },
   {
    "duration": 40,
    "start_time": "2025-03-03T13:13:46.608Z"
   },
   {
    "duration": 61,
    "start_time": "2025-03-03T13:13:59.456Z"
   },
   {
    "duration": 85,
    "start_time": "2025-03-03T13:14:19.081Z"
   },
   {
    "duration": 5,
    "start_time": "2025-03-03T13:20:14.739Z"
   },
   {
    "duration": 36,
    "start_time": "2025-03-03T13:20:49.171Z"
   },
   {
    "duration": 4,
    "start_time": "2025-03-03T13:22:46.844Z"
   },
   {
    "duration": 1473,
    "start_time": "2025-03-03T13:23:17.812Z"
   },
   {
    "duration": 36,
    "start_time": "2025-03-03T13:30:45.877Z"
   },
   {
    "duration": 1564,
    "start_time": "2025-03-03T13:31:08.053Z"
   },
   {
    "duration": 35,
    "start_time": "2025-03-03T13:46:05.745Z"
   },
   {
    "duration": 1436,
    "start_time": "2025-03-03T13:46:40.881Z"
   },
   {
    "duration": 7246,
    "start_time": "2025-03-03T13:57:05.309Z"
   },
   {
    "duration": 393,
    "start_time": "2025-03-03T13:57:12.557Z"
   },
   {
    "duration": 4,
    "start_time": "2025-03-03T13:57:12.952Z"
   },
   {
    "duration": 74,
    "start_time": "2025-03-03T13:57:12.958Z"
   },
   {
    "duration": 54,
    "start_time": "2025-03-03T13:57:13.034Z"
   },
   {
    "duration": 71,
    "start_time": "2025-03-03T13:57:13.089Z"
   },
   {
    "duration": 55,
    "start_time": "2025-03-03T13:57:13.161Z"
   },
   {
    "duration": 132,
    "start_time": "2025-03-03T13:57:13.217Z"
   },
   {
    "duration": 71,
    "start_time": "2025-03-03T13:57:13.350Z"
   },
   {
    "duration": 5,
    "start_time": "2025-03-03T13:57:13.423Z"
   },
   {
    "duration": 10,
    "start_time": "2025-03-03T13:57:13.429Z"
   },
   {
    "duration": 6,
    "start_time": "2025-03-03T13:57:13.441Z"
   },
   {
    "duration": 2029,
    "start_time": "2025-03-03T13:57:13.449Z"
   },
   {
    "duration": 49,
    "start_time": "2025-03-03T13:57:15.480Z"
   },
   {
    "duration": 1568,
    "start_time": "2025-03-03T13:57:15.530Z"
   },
   {
    "duration": 43,
    "start_time": "2025-03-03T13:57:17.100Z"
   },
   {
    "duration": 1380,
    "start_time": "2025-03-03T13:57:17.145Z"
   },
   {
    "duration": 38,
    "start_time": "2025-03-03T13:57:18.526Z"
   },
   {
    "duration": 1471,
    "start_time": "2025-03-03T13:57:18.566Z"
   },
   {
    "duration": 2205,
    "start_time": "2025-03-03T13:58:35.804Z"
   },
   {
    "duration": 2161,
    "start_time": "2025-03-03T13:59:48.765Z"
   },
   {
    "duration": 13558,
    "start_time": "2025-03-04T11:32:32.400Z"
   },
   {
    "duration": 417,
    "start_time": "2025-03-04T11:32:45.960Z"
   },
   {
    "duration": 4,
    "start_time": "2025-03-04T11:32:46.378Z"
   },
   {
    "duration": 187,
    "start_time": "2025-03-04T11:32:46.384Z"
   },
   {
    "duration": 56,
    "start_time": "2025-03-04T11:32:46.573Z"
   },
   {
    "duration": 75,
    "start_time": "2025-03-04T11:32:46.630Z"
   },
   {
    "duration": 53,
    "start_time": "2025-03-04T11:32:46.706Z"
   },
   {
    "duration": 76,
    "start_time": "2025-03-04T11:32:46.760Z"
   },
   {
    "duration": 85,
    "start_time": "2025-03-04T11:32:46.838Z"
   },
   {
    "duration": 6,
    "start_time": "2025-03-04T11:32:46.927Z"
   },
   {
    "duration": 78,
    "start_time": "2025-03-04T11:32:46.935Z"
   },
   {
    "duration": 5,
    "start_time": "2025-03-04T11:32:47.015Z"
   },
   {
    "duration": 2165,
    "start_time": "2025-03-04T11:32:47.022Z"
   },
   {
    "duration": 2174,
    "start_time": "2025-03-04T11:32:49.189Z"
   },
   {
    "duration": 2135,
    "start_time": "2025-03-04T11:32:51.364Z"
   },
   {
    "duration": 142,
    "start_time": "2025-03-04T12:12:08.175Z"
   },
   {
    "duration": 7403,
    "start_time": "2025-03-04T12:13:16.092Z"
   },
   {
    "duration": 408,
    "start_time": "2025-03-04T12:13:23.497Z"
   },
   {
    "duration": 3,
    "start_time": "2025-03-04T12:13:23.907Z"
   },
   {
    "duration": 76,
    "start_time": "2025-03-04T12:13:23.912Z"
   },
   {
    "duration": 72,
    "start_time": "2025-03-04T12:13:23.990Z"
   },
   {
    "duration": 53,
    "start_time": "2025-03-04T12:13:24.063Z"
   },
   {
    "duration": 71,
    "start_time": "2025-03-04T12:13:24.117Z"
   },
   {
    "duration": 81,
    "start_time": "2025-03-04T12:13:24.189Z"
   },
   {
    "duration": 59,
    "start_time": "2025-03-04T12:13:24.272Z"
   },
   {
    "duration": 24,
    "start_time": "2025-03-04T12:13:24.334Z"
   },
   {
    "duration": 6,
    "start_time": "2025-03-04T12:13:24.359Z"
   },
   {
    "duration": 4,
    "start_time": "2025-03-04T12:13:24.366Z"
   },
   {
    "duration": 2123,
    "start_time": "2025-03-04T12:13:24.371Z"
   },
   {
    "duration": 2198,
    "start_time": "2025-03-04T12:13:26.496Z"
   },
   {
    "duration": 2106,
    "start_time": "2025-03-04T12:13:28.696Z"
   },
   {
    "duration": 16,
    "start_time": "2025-03-04T12:13:30.804Z"
   },
   {
    "duration": 142,
    "start_time": "2025-03-04T12:22:38.259Z"
   },
   {
    "duration": 15,
    "start_time": "2025-03-04T12:22:51.769Z"
   },
   {
    "duration": 17,
    "start_time": "2025-03-04T12:23:19.864Z"
   },
   {
    "duration": 16,
    "start_time": "2025-03-04T13:20:14.439Z"
   },
   {
    "duration": 24,
    "start_time": "2025-03-04T13:20:35.079Z"
   },
   {
    "duration": 7372,
    "start_time": "2025-03-04T13:21:28.766Z"
   },
   {
    "duration": 422,
    "start_time": "2025-03-04T13:21:36.140Z"
   },
   {
    "duration": 4,
    "start_time": "2025-03-04T13:21:36.563Z"
   },
   {
    "duration": 90,
    "start_time": "2025-03-04T13:21:36.570Z"
   },
   {
    "duration": 55,
    "start_time": "2025-03-04T13:21:36.662Z"
   },
   {
    "duration": 80,
    "start_time": "2025-03-04T13:21:36.718Z"
   },
   {
    "duration": 33,
    "start_time": "2025-03-04T13:21:36.799Z"
   },
   {
    "duration": 95,
    "start_time": "2025-03-04T13:21:36.834Z"
   },
   {
    "duration": 87,
    "start_time": "2025-03-04T13:21:36.930Z"
   },
   {
    "duration": 5,
    "start_time": "2025-03-04T13:21:37.019Z"
   },
   {
    "duration": 4,
    "start_time": "2025-03-04T13:21:37.026Z"
   },
   {
    "duration": 27,
    "start_time": "2025-03-04T13:21:37.032Z"
   },
   {
    "duration": 2116,
    "start_time": "2025-03-04T13:21:37.061Z"
   },
   {
    "duration": 2115,
    "start_time": "2025-03-04T13:21:39.179Z"
   },
   {
    "duration": 2124,
    "start_time": "2025-03-04T13:21:41.295Z"
   },
   {
    "duration": 362,
    "start_time": "2025-03-04T13:21:43.421Z"
   },
   {
    "duration": 7464,
    "start_time": "2025-03-04T13:24:58.835Z"
   },
   {
    "duration": 401,
    "start_time": "2025-03-04T13:25:06.301Z"
   },
   {
    "duration": 4,
    "start_time": "2025-03-04T13:25:06.704Z"
   },
   {
    "duration": 78,
    "start_time": "2025-03-04T13:25:06.710Z"
   },
   {
    "duration": 69,
    "start_time": "2025-03-04T13:25:06.790Z"
   },
   {
    "duration": 54,
    "start_time": "2025-03-04T13:25:06.861Z"
   },
   {
    "duration": 59,
    "start_time": "2025-03-04T13:25:06.917Z"
   },
   {
    "duration": 97,
    "start_time": "2025-03-04T13:25:06.978Z"
   },
   {
    "duration": 64,
    "start_time": "2025-03-04T13:25:07.077Z"
   },
   {
    "duration": 5,
    "start_time": "2025-03-04T13:25:07.159Z"
   },
   {
    "duration": 4,
    "start_time": "2025-03-04T13:25:07.166Z"
   },
   {
    "duration": 6,
    "start_time": "2025-03-04T13:25:07.172Z"
   },
   {
    "duration": 2104,
    "start_time": "2025-03-04T13:25:07.180Z"
   },
   {
    "duration": 2118,
    "start_time": "2025-03-04T13:25:09.285Z"
   },
   {
    "duration": 2071,
    "start_time": "2025-03-04T13:25:11.404Z"
   },
   {
    "duration": 401,
    "start_time": "2025-03-04T13:25:13.477Z"
   },
   {
    "duration": 389,
    "start_time": "2025-03-04T13:29:40.088Z"
   },
   {
    "duration": 7552,
    "start_time": "2025-03-04T13:32:15.214Z"
   },
   {
    "duration": 406,
    "start_time": "2025-03-04T13:32:22.768Z"
   },
   {
    "duration": 4,
    "start_time": "2025-03-04T13:32:23.175Z"
   },
   {
    "duration": 62,
    "start_time": "2025-03-04T13:32:23.182Z"
   },
   {
    "duration": 55,
    "start_time": "2025-03-04T13:32:23.258Z"
   },
   {
    "duration": 85,
    "start_time": "2025-03-04T13:32:23.315Z"
   },
   {
    "duration": 56,
    "start_time": "2025-03-04T13:32:23.402Z"
   },
   {
    "duration": 72,
    "start_time": "2025-03-04T13:32:23.459Z"
   },
   {
    "duration": 79,
    "start_time": "2025-03-04T13:32:23.533Z"
   },
   {
    "duration": 5,
    "start_time": "2025-03-04T13:32:23.614Z"
   },
   {
    "duration": 4,
    "start_time": "2025-03-04T13:32:23.621Z"
   },
   {
    "duration": 13,
    "start_time": "2025-03-04T13:32:23.626Z"
   },
   {
    "duration": 2159,
    "start_time": "2025-03-04T13:32:23.641Z"
   },
   {
    "duration": 2179,
    "start_time": "2025-03-04T13:32:25.801Z"
   },
   {
    "duration": 2099,
    "start_time": "2025-03-04T13:32:27.981Z"
   },
   {
    "duration": 389,
    "start_time": "2025-03-04T13:32:30.082Z"
   },
   {
    "duration": 13806,
    "start_time": "2025-03-05T09:57:53.057Z"
   },
   {
    "duration": 431,
    "start_time": "2025-03-05T09:58:06.865Z"
   },
   {
    "duration": 4,
    "start_time": "2025-03-05T09:58:07.298Z"
   },
   {
    "duration": 83,
    "start_time": "2025-03-05T09:58:07.304Z"
   },
   {
    "duration": 54,
    "start_time": "2025-03-05T09:58:07.389Z"
   },
   {
    "duration": 54,
    "start_time": "2025-03-05T09:58:07.463Z"
   },
   {
    "duration": 66,
    "start_time": "2025-03-05T09:58:07.519Z"
   },
   {
    "duration": 94,
    "start_time": "2025-03-05T09:58:07.587Z"
   },
   {
    "duration": 79,
    "start_time": "2025-03-05T09:58:07.683Z"
   },
   {
    "duration": 5,
    "start_time": "2025-03-05T09:58:07.764Z"
   },
   {
    "duration": 5,
    "start_time": "2025-03-05T09:58:07.770Z"
   },
   {
    "duration": 11,
    "start_time": "2025-03-05T09:58:07.776Z"
   },
   {
    "duration": 2095,
    "start_time": "2025-03-05T09:58:07.789Z"
   },
   {
    "duration": 2178,
    "start_time": "2025-03-05T09:58:09.886Z"
   },
   {
    "duration": 2123,
    "start_time": "2025-03-05T09:58:12.066Z"
   },
   {
    "duration": 389,
    "start_time": "2025-03-05T09:58:14.191Z"
   },
   {
    "duration": 2,
    "start_time": "2025-03-05T10:43:58.241Z"
   },
   {
    "duration": 23,
    "start_time": "2025-03-05T10:47:44.385Z"
   },
   {
    "duration": 144,
    "start_time": "2025-03-05T10:47:46.962Z"
   },
   {
    "duration": 4,
    "start_time": "2025-03-05T10:59:22.564Z"
   },
   {
    "duration": 37,
    "start_time": "2025-03-05T11:02:45.671Z"
   },
   {
    "duration": 52,
    "start_time": "2025-03-05T11:03:23.400Z"
   },
   {
    "duration": 40,
    "start_time": "2025-03-05T11:03:36.776Z"
   },
   {
    "duration": 4,
    "start_time": "2025-03-05T11:04:04.062Z"
   },
   {
    "duration": 5151,
    "start_time": "2025-03-05T11:04:05.712Z"
   },
   {
    "duration": 5019,
    "start_time": "2025-03-05T11:05:13.880Z"
   },
   {
    "duration": 17,
    "start_time": "2025-03-05T11:06:05.879Z"
   },
   {
    "duration": 7148,
    "start_time": "2025-03-05T11:07:26.303Z"
   },
   {
    "duration": 408,
    "start_time": "2025-03-05T11:07:33.453Z"
   },
   {
    "duration": 4,
    "start_time": "2025-03-05T11:07:33.863Z"
   },
   {
    "duration": 85,
    "start_time": "2025-03-05T11:07:33.868Z"
   },
   {
    "duration": 54,
    "start_time": "2025-03-05T11:07:33.954Z"
   },
   {
    "duration": 76,
    "start_time": "2025-03-05T11:07:34.010Z"
   },
   {
    "duration": 32,
    "start_time": "2025-03-05T11:07:34.088Z"
   },
   {
    "duration": 89,
    "start_time": "2025-03-05T11:07:34.122Z"
   },
   {
    "duration": 75,
    "start_time": "2025-03-05T11:07:34.213Z"
   },
   {
    "duration": 5,
    "start_time": "2025-03-05T11:07:34.290Z"
   },
   {
    "duration": 26,
    "start_time": "2025-03-05T11:07:34.297Z"
   },
   {
    "duration": 39,
    "start_time": "2025-03-05T11:07:34.324Z"
   },
   {
    "duration": 2139,
    "start_time": "2025-03-05T11:07:34.365Z"
   },
   {
    "duration": 2180,
    "start_time": "2025-03-05T11:07:36.506Z"
   },
   {
    "duration": 2098,
    "start_time": "2025-03-05T11:07:38.687Z"
   },
   {
    "duration": 392,
    "start_time": "2025-03-05T11:07:40.787Z"
   },
   {
    "duration": 7,
    "start_time": "2025-03-05T11:07:41.263Z"
   },
   {
    "duration": 239,
    "start_time": "2025-03-05T11:07:41.273Z"
   },
   {
    "duration": 13,
    "start_time": "2025-03-05T11:07:41.513Z"
   },
   {
    "duration": 5195,
    "start_time": "2025-03-05T11:07:41.528Z"
   },
   {
    "duration": 198,
    "start_time": "2025-03-05T11:07:46.724Z"
   },
   {
    "duration": 5106,
    "start_time": "2025-03-05T11:11:13.066Z"
   },
   {
    "duration": 5276,
    "start_time": "2025-03-05T11:12:08.514Z"
   },
   {
    "duration": 5173,
    "start_time": "2025-03-05T11:12:27.130Z"
   },
   {
    "duration": 5255,
    "start_time": "2025-03-05T11:19:32.474Z"
   },
   {
    "duration": 5180,
    "start_time": "2025-03-05T11:42:26.340Z"
   },
   {
    "duration": 5278,
    "start_time": "2025-03-05T11:47:22.953Z"
   },
   {
    "duration": 12065,
    "start_time": "2025-03-05T11:49:41.794Z"
   },
   {
    "duration": 5153,
    "start_time": "2025-03-05T11:51:22.332Z"
   },
   {
    "duration": 5435,
    "start_time": "2025-03-05T11:52:21.144Z"
   },
   {
    "duration": 5159,
    "start_time": "2025-03-05T11:56:35.624Z"
   },
   {
    "duration": 5364,
    "start_time": "2025-03-05T11:56:54.400Z"
   },
   {
    "duration": 5199,
    "start_time": "2025-03-05T11:57:09.440Z"
   },
   {
    "duration": 7587,
    "start_time": "2025-03-05T13:40:38.384Z"
   },
   {
    "duration": 415,
    "start_time": "2025-03-05T13:40:45.973Z"
   },
   {
    "duration": 5,
    "start_time": "2025-03-05T13:40:46.390Z"
   },
   {
    "duration": 81,
    "start_time": "2025-03-05T13:40:46.398Z"
   },
   {
    "duration": 58,
    "start_time": "2025-03-05T13:40:46.481Z"
   },
   {
    "duration": 54,
    "start_time": "2025-03-05T13:40:46.563Z"
   },
   {
    "duration": 53,
    "start_time": "2025-03-05T13:40:46.618Z"
   },
   {
    "duration": 72,
    "start_time": "2025-03-05T13:40:46.672Z"
   },
   {
    "duration": 60,
    "start_time": "2025-03-05T13:40:46.762Z"
   },
   {
    "duration": 4,
    "start_time": "2025-03-05T13:40:46.825Z"
   },
   {
    "duration": 14,
    "start_time": "2025-03-05T13:40:46.831Z"
   },
   {
    "duration": 15,
    "start_time": "2025-03-05T13:40:46.847Z"
   },
   {
    "duration": 2118,
    "start_time": "2025-03-05T13:40:46.864Z"
   },
   {
    "duration": 2184,
    "start_time": "2025-03-05T13:40:48.984Z"
   },
   {
    "duration": 2107,
    "start_time": "2025-03-05T13:40:51.170Z"
   },
   {
    "duration": 398,
    "start_time": "2025-03-05T13:40:53.279Z"
   },
   {
    "duration": 86,
    "start_time": "2025-03-05T13:40:53.679Z"
   },
   {
    "duration": 129,
    "start_time": "2025-03-05T13:40:53.768Z"
   },
   {
    "duration": 4,
    "start_time": "2025-03-05T13:40:53.898Z"
   },
   {
    "duration": 5324,
    "start_time": "2025-03-05T13:40:53.904Z"
   },
   {
    "duration": 6790,
    "start_time": "2025-03-05T13:42:54.324Z"
   },
   {
    "duration": 387,
    "start_time": "2025-03-05T13:43:01.116Z"
   },
   {
    "duration": 3,
    "start_time": "2025-03-05T13:43:01.505Z"
   },
   {
    "duration": 188,
    "start_time": "2025-03-05T13:43:01.511Z"
   },
   {
    "duration": 100,
    "start_time": "2025-03-05T13:43:01.702Z"
   },
   {
    "duration": 132,
    "start_time": "2025-03-05T13:43:01.804Z"
   },
   {
    "duration": 38,
    "start_time": "2025-03-05T13:43:01.938Z"
   },
   {
    "duration": 114,
    "start_time": "2025-03-05T13:43:01.978Z"
   },
   {
    "duration": 124,
    "start_time": "2025-03-05T13:43:02.094Z"
   },
   {
    "duration": 8,
    "start_time": "2025-03-05T13:43:02.220Z"
   },
   {
    "duration": 37,
    "start_time": "2025-03-05T13:43:02.229Z"
   },
   {
    "duration": 57,
    "start_time": "2025-03-05T13:43:02.267Z"
   },
   {
    "duration": 2149,
    "start_time": "2025-03-05T13:43:02.325Z"
   },
   {
    "duration": 2076,
    "start_time": "2025-03-05T13:43:04.475Z"
   },
   {
    "duration": 2227,
    "start_time": "2025-03-05T13:43:06.553Z"
   },
   {
    "duration": 397,
    "start_time": "2025-03-05T13:43:08.781Z"
   },
   {
    "duration": 82,
    "start_time": "2025-03-05T13:43:09.181Z"
   },
   {
    "duration": 129,
    "start_time": "2025-03-05T13:43:09.266Z"
   },
   {
    "duration": 16,
    "start_time": "2025-03-05T13:43:09.397Z"
   },
   {
    "duration": 5167,
    "start_time": "2025-03-05T13:43:09.414Z"
   },
   {
    "duration": 6793,
    "start_time": "2025-03-05T13:45:39.460Z"
   },
   {
    "duration": 398,
    "start_time": "2025-03-05T13:45:46.255Z"
   },
   {
    "duration": 8,
    "start_time": "2025-03-05T13:45:46.655Z"
   },
   {
    "duration": 116,
    "start_time": "2025-03-05T13:45:46.665Z"
   },
   {
    "duration": 54,
    "start_time": "2025-03-05T13:45:46.783Z"
   },
   {
    "duration": 55,
    "start_time": "2025-03-05T13:45:46.863Z"
   },
   {
    "duration": 54,
    "start_time": "2025-03-05T13:45:46.919Z"
   },
   {
    "duration": 90,
    "start_time": "2025-03-05T13:45:46.974Z"
   },
   {
    "duration": 120,
    "start_time": "2025-03-05T13:45:47.065Z"
   },
   {
    "duration": 5,
    "start_time": "2025-03-05T13:45:47.187Z"
   },
   {
    "duration": 17,
    "start_time": "2025-03-05T13:45:47.193Z"
   },
   {
    "duration": 18,
    "start_time": "2025-03-05T13:45:47.211Z"
   },
   {
    "duration": 2253,
    "start_time": "2025-03-05T13:45:47.231Z"
   },
   {
    "duration": 2111,
    "start_time": "2025-03-05T13:45:49.486Z"
   },
   {
    "duration": 2308,
    "start_time": "2025-03-05T13:45:51.599Z"
   },
   {
    "duration": 463,
    "start_time": "2025-03-05T13:45:53.909Z"
   },
   {
    "duration": 88,
    "start_time": "2025-03-05T13:45:54.375Z"
   },
   {
    "duration": 74,
    "start_time": "2025-03-05T13:45:54.466Z"
   },
   {
    "duration": 4,
    "start_time": "2025-03-05T13:45:54.542Z"
   },
   {
    "duration": 5802,
    "start_time": "2025-03-05T13:45:54.548Z"
   },
   {
    "duration": 7630,
    "start_time": "2025-03-05T13:47:29.917Z"
   },
   {
    "duration": 439,
    "start_time": "2025-03-05T13:47:37.549Z"
   },
   {
    "duration": 4,
    "start_time": "2025-03-05T13:47:37.989Z"
   },
   {
    "duration": 97,
    "start_time": "2025-03-05T13:47:37.995Z"
   },
   {
    "duration": 71,
    "start_time": "2025-03-05T13:47:38.094Z"
   },
   {
    "duration": 88,
    "start_time": "2025-03-05T13:47:38.168Z"
   },
   {
    "duration": 225,
    "start_time": "2025-03-05T13:47:38.257Z"
   },
   {
    "duration": 100,
    "start_time": "2025-03-05T13:47:38.484Z"
   },
   {
    "duration": 63,
    "start_time": "2025-03-05T13:47:38.586Z"
   },
   {
    "duration": 9,
    "start_time": "2025-03-05T13:47:38.671Z"
   },
   {
    "duration": 17,
    "start_time": "2025-03-05T13:47:38.682Z"
   },
   {
    "duration": 136,
    "start_time": "2025-03-05T13:47:38.700Z"
   },
   {
    "duration": 2485,
    "start_time": "2025-03-05T13:47:38.838Z"
   },
   {
    "duration": 2182,
    "start_time": "2025-03-05T13:47:41.325Z"
   },
   {
    "duration": 2318,
    "start_time": "2025-03-05T13:47:43.509Z"
   },
   {
    "duration": 451,
    "start_time": "2025-03-05T13:47:45.829Z"
   },
   {
    "duration": 5,
    "start_time": "2025-03-05T13:47:46.362Z"
   },
   {
    "duration": 119,
    "start_time": "2025-03-05T13:47:46.370Z"
   },
   {
    "duration": 8,
    "start_time": "2025-03-05T13:47:46.491Z"
   },
   {
    "duration": 5459,
    "start_time": "2025-03-05T13:47:46.500Z"
   },
   {
    "duration": 97,
    "start_time": "2025-03-06T08:38:59.253Z"
   },
   {
    "duration": 11207,
    "start_time": "2025-03-06T08:48:15.487Z"
   },
   {
    "duration": 401,
    "start_time": "2025-03-06T08:48:26.696Z"
   },
   {
    "duration": 4,
    "start_time": "2025-03-06T08:48:27.098Z"
   },
   {
    "duration": 75,
    "start_time": "2025-03-06T08:48:27.104Z"
   },
   {
    "duration": 54,
    "start_time": "2025-03-06T08:48:27.181Z"
   },
   {
    "duration": 68,
    "start_time": "2025-03-06T08:48:27.257Z"
   },
   {
    "duration": 41,
    "start_time": "2025-03-06T08:48:27.326Z"
   },
   {
    "duration": 89,
    "start_time": "2025-03-06T08:48:27.369Z"
   },
   {
    "duration": 64,
    "start_time": "2025-03-06T08:48:27.459Z"
   },
   {
    "duration": 5,
    "start_time": "2025-03-06T08:48:27.525Z"
   },
   {
    "duration": 25,
    "start_time": "2025-03-06T08:48:27.532Z"
   },
   {
    "duration": 7,
    "start_time": "2025-03-06T08:48:27.559Z"
   },
   {
    "duration": 2188,
    "start_time": "2025-03-06T08:48:27.567Z"
   },
   {
    "duration": 2124,
    "start_time": "2025-03-06T08:48:29.757Z"
   },
   {
    "duration": 2196,
    "start_time": "2025-03-06T08:48:31.882Z"
   },
   {
    "duration": 396,
    "start_time": "2025-03-06T08:48:34.080Z"
   },
   {
    "duration": 81,
    "start_time": "2025-03-06T08:48:34.478Z"
   },
   {
    "duration": 121,
    "start_time": "2025-03-06T08:48:34.561Z"
   },
   {
    "duration": 82,
    "start_time": "2025-03-06T08:48:34.683Z"
   },
   {
    "duration": 6649,
    "start_time": "2025-03-06T08:48:34.767Z"
   },
   {
    "duration": 6790,
    "start_time": "2025-03-06T09:13:30.800Z"
   },
   {
    "duration": 385,
    "start_time": "2025-03-06T09:13:37.592Z"
   },
   {
    "duration": 5,
    "start_time": "2025-03-06T09:13:37.979Z"
   },
   {
    "duration": 80,
    "start_time": "2025-03-06T09:13:37.986Z"
   },
   {
    "duration": 56,
    "start_time": "2025-03-06T09:13:38.068Z"
   },
   {
    "duration": 84,
    "start_time": "2025-03-06T09:13:38.126Z"
   },
   {
    "duration": 55,
    "start_time": "2025-03-06T09:13:38.212Z"
   },
   {
    "duration": 95,
    "start_time": "2025-03-06T09:13:38.268Z"
   },
   {
    "duration": 63,
    "start_time": "2025-03-06T09:13:38.365Z"
   },
   {
    "duration": 4,
    "start_time": "2025-03-06T09:13:38.431Z"
   },
   {
    "duration": 78,
    "start_time": "2025-03-06T09:13:38.437Z"
   },
   {
    "duration": 3,
    "start_time": "2025-03-06T09:13:38.517Z"
   },
   {
    "duration": 2171,
    "start_time": "2025-03-06T09:13:38.521Z"
   },
   {
    "duration": 2081,
    "start_time": "2025-03-06T09:13:40.694Z"
   },
   {
    "duration": 2208,
    "start_time": "2025-03-06T09:13:42.776Z"
   },
   {
    "duration": 388,
    "start_time": "2025-03-06T09:13:44.986Z"
   },
   {
    "duration": 85,
    "start_time": "2025-03-06T09:13:45.376Z"
   },
   {
    "duration": 176,
    "start_time": "2025-03-06T09:13:45.464Z"
   },
   {
    "duration": 3,
    "start_time": "2025-03-06T09:13:45.641Z"
   },
   {
    "duration": 11,
    "start_time": "2025-03-06T09:13:45.646Z"
   },
   {
    "duration": 151,
    "start_time": "2025-03-06T09:13:45.659Z"
   },
   {
    "duration": 6703,
    "start_time": "2025-03-06T09:16:51.867Z"
   },
   {
    "duration": 386,
    "start_time": "2025-03-06T09:16:58.572Z"
   },
   {
    "duration": 5,
    "start_time": "2025-03-06T09:16:58.959Z"
   },
   {
    "duration": 61,
    "start_time": "2025-03-06T09:16:58.966Z"
   },
   {
    "duration": 74,
    "start_time": "2025-03-06T09:16:59.029Z"
   },
   {
    "duration": 74,
    "start_time": "2025-03-06T09:16:59.105Z"
   },
   {
    "duration": 33,
    "start_time": "2025-03-06T09:16:59.180Z"
   },
   {
    "duration": 99,
    "start_time": "2025-03-06T09:16:59.215Z"
   },
   {
    "duration": 80,
    "start_time": "2025-03-06T09:16:59.316Z"
   },
   {
    "duration": 4,
    "start_time": "2025-03-06T09:16:59.399Z"
   },
   {
    "duration": 4,
    "start_time": "2025-03-06T09:16:59.405Z"
   },
   {
    "duration": 6,
    "start_time": "2025-03-06T09:16:59.410Z"
   },
   {
    "duration": 2267,
    "start_time": "2025-03-06T09:16:59.417Z"
   },
   {
    "duration": 2095,
    "start_time": "2025-03-06T09:17:01.685Z"
   },
   {
    "duration": 2109,
    "start_time": "2025-03-06T09:17:03.781Z"
   },
   {
    "duration": 483,
    "start_time": "2025-03-06T09:17:05.892Z"
   },
   {
    "duration": 84,
    "start_time": "2025-03-06T09:17:06.378Z"
   },
   {
    "duration": 115,
    "start_time": "2025-03-06T09:17:06.467Z"
   },
   {
    "duration": 3,
    "start_time": "2025-03-06T09:17:06.583Z"
   },
   {
    "duration": 22,
    "start_time": "2025-03-06T09:17:06.587Z"
   },
   {
    "duration": 6725,
    "start_time": "2025-03-06T09:17:06.610Z"
   },
   {
    "duration": 6832,
    "start_time": "2025-03-06T09:19:12.086Z"
   },
   {
    "duration": 381,
    "start_time": "2025-03-06T09:19:18.920Z"
   },
   {
    "duration": 4,
    "start_time": "2025-03-06T09:19:19.305Z"
   },
   {
    "duration": 73,
    "start_time": "2025-03-06T09:19:19.311Z"
   },
   {
    "duration": 53,
    "start_time": "2025-03-06T09:19:19.385Z"
   },
   {
    "duration": 53,
    "start_time": "2025-03-06T09:19:19.458Z"
   },
   {
    "duration": 51,
    "start_time": "2025-03-06T09:19:19.513Z"
   },
   {
    "duration": 96,
    "start_time": "2025-03-06T09:19:19.566Z"
   },
   {
    "duration": 66,
    "start_time": "2025-03-06T09:19:19.665Z"
   },
   {
    "duration": 5,
    "start_time": "2025-03-06T09:19:19.732Z"
   },
   {
    "duration": 46,
    "start_time": "2025-03-06T09:19:19.738Z"
   },
   {
    "duration": 6,
    "start_time": "2025-03-06T09:19:19.786Z"
   },
   {
    "duration": 2184,
    "start_time": "2025-03-06T09:19:19.794Z"
   },
   {
    "duration": 1997,
    "start_time": "2025-03-06T09:19:21.980Z"
   },
   {
    "duration": 2193,
    "start_time": "2025-03-06T09:19:23.978Z"
   },
   {
    "duration": 392,
    "start_time": "2025-03-06T09:19:26.172Z"
   },
   {
    "duration": 97,
    "start_time": "2025-03-06T09:19:26.566Z"
   },
   {
    "duration": 115,
    "start_time": "2025-03-06T09:19:26.665Z"
   },
   {
    "duration": 84,
    "start_time": "2025-03-06T09:19:26.782Z"
   },
   {
    "duration": 5,
    "start_time": "2025-03-06T09:19:26.868Z"
   },
   {
    "duration": 5448,
    "start_time": "2025-03-06T09:19:26.874Z"
   },
   {
    "duration": 6830,
    "start_time": "2025-03-06T09:23:36.131Z"
   },
   {
    "duration": 384,
    "start_time": "2025-03-06T09:23:42.963Z"
   },
   {
    "duration": 9,
    "start_time": "2025-03-06T09:23:43.349Z"
   },
   {
    "duration": 80,
    "start_time": "2025-03-06T09:23:43.360Z"
   },
   {
    "duration": 53,
    "start_time": "2025-03-06T09:23:43.442Z"
   },
   {
    "duration": 74,
    "start_time": "2025-03-06T09:23:43.497Z"
   },
   {
    "duration": 32,
    "start_time": "2025-03-06T09:23:43.572Z"
   },
   {
    "duration": 116,
    "start_time": "2025-03-06T09:23:43.606Z"
   },
   {
    "duration": 77,
    "start_time": "2025-03-06T09:23:43.724Z"
   },
   {
    "duration": 4,
    "start_time": "2025-03-06T09:23:43.804Z"
   },
   {
    "duration": 4,
    "start_time": "2025-03-06T09:23:43.810Z"
   },
   {
    "duration": 6,
    "start_time": "2025-03-06T09:23:43.815Z"
   },
   {
    "duration": 2242,
    "start_time": "2025-03-06T09:23:43.822Z"
   },
   {
    "duration": 2012,
    "start_time": "2025-03-06T09:23:46.066Z"
   },
   {
    "duration": 2188,
    "start_time": "2025-03-06T09:23:48.080Z"
   },
   {
    "duration": 401,
    "start_time": "2025-03-06T09:23:50.270Z"
   },
   {
    "duration": 85,
    "start_time": "2025-03-06T09:23:50.674Z"
   },
   {
    "duration": 119,
    "start_time": "2025-03-06T09:23:50.761Z"
   },
   {
    "duration": 3,
    "start_time": "2025-03-06T09:23:50.881Z"
   },
   {
    "duration": 10,
    "start_time": "2025-03-06T09:23:50.885Z"
   },
   {
    "duration": 5463,
    "start_time": "2025-03-06T09:23:50.896Z"
   },
   {
    "duration": 108,
    "start_time": "2025-03-06T09:28:25.263Z"
   },
   {
    "duration": 6752,
    "start_time": "2025-03-06T09:33:26.122Z"
   },
   {
    "duration": 391,
    "start_time": "2025-03-06T09:33:32.877Z"
   },
   {
    "duration": 5,
    "start_time": "2025-03-06T09:33:33.270Z"
   },
   {
    "duration": 94,
    "start_time": "2025-03-06T09:33:33.277Z"
   },
   {
    "duration": 56,
    "start_time": "2025-03-06T09:33:33.373Z"
   },
   {
    "duration": 59,
    "start_time": "2025-03-06T09:33:33.458Z"
   },
   {
    "duration": 54,
    "start_time": "2025-03-06T09:33:33.518Z"
   },
   {
    "duration": 92,
    "start_time": "2025-03-06T09:33:33.573Z"
   },
   {
    "duration": 76,
    "start_time": "2025-03-06T09:33:33.666Z"
   },
   {
    "duration": 17,
    "start_time": "2025-03-06T09:33:33.744Z"
   },
   {
    "duration": 58,
    "start_time": "2025-03-06T09:33:33.763Z"
   },
   {
    "duration": 6,
    "start_time": "2025-03-06T09:33:33.822Z"
   },
   {
    "duration": 2245,
    "start_time": "2025-03-06T09:33:33.829Z"
   },
   {
    "duration": 2107,
    "start_time": "2025-03-06T09:33:36.076Z"
   },
   {
    "duration": 2199,
    "start_time": "2025-03-06T09:33:38.185Z"
   },
   {
    "duration": 375,
    "start_time": "2025-03-06T09:33:40.386Z"
   },
   {
    "duration": 95,
    "start_time": "2025-03-06T09:33:40.764Z"
   },
   {
    "duration": 73,
    "start_time": "2025-03-06T09:33:40.860Z"
   },
   {
    "duration": 3,
    "start_time": "2025-03-06T09:33:40.934Z"
   },
   {
    "duration": 5,
    "start_time": "2025-03-06T09:33:40.938Z"
   },
   {
    "duration": 5522,
    "start_time": "2025-03-06T09:33:40.945Z"
   },
   {
    "duration": 6706,
    "start_time": "2025-03-06T09:41:08.826Z"
   },
   {
    "duration": 383,
    "start_time": "2025-03-06T09:41:15.534Z"
   },
   {
    "duration": 4,
    "start_time": "2025-03-06T09:41:15.921Z"
   },
   {
    "duration": 73,
    "start_time": "2025-03-06T09:41:15.926Z"
   },
   {
    "duration": 74,
    "start_time": "2025-03-06T09:41:16.001Z"
   },
   {
    "duration": 55,
    "start_time": "2025-03-06T09:41:16.077Z"
   },
   {
    "duration": 55,
    "start_time": "2025-03-06T09:41:16.134Z"
   },
   {
    "duration": 95,
    "start_time": "2025-03-06T09:41:16.191Z"
   },
   {
    "duration": 77,
    "start_time": "2025-03-06T09:41:16.288Z"
   },
   {
    "duration": 5,
    "start_time": "2025-03-06T09:41:16.366Z"
   },
   {
    "duration": 7,
    "start_time": "2025-03-06T09:41:16.373Z"
   },
   {
    "duration": 5,
    "start_time": "2025-03-06T09:41:16.381Z"
   },
   {
    "duration": 2142,
    "start_time": "2025-03-06T09:41:16.387Z"
   },
   {
    "duration": 2042,
    "start_time": "2025-03-06T09:41:18.531Z"
   },
   {
    "duration": 2199,
    "start_time": "2025-03-06T09:41:20.574Z"
   },
   {
    "duration": 400,
    "start_time": "2025-03-06T09:41:22.775Z"
   },
   {
    "duration": 85,
    "start_time": "2025-03-06T09:41:23.178Z"
   },
   {
    "duration": 114,
    "start_time": "2025-03-06T09:41:23.267Z"
   },
   {
    "duration": 3,
    "start_time": "2025-03-06T09:41:23.382Z"
   },
   {
    "duration": 70,
    "start_time": "2025-03-06T09:41:23.386Z"
   },
   {
    "duration": 5490,
    "start_time": "2025-03-06T09:41:23.457Z"
   },
   {
    "duration": 73,
    "start_time": "2025-03-06T09:42:55.387Z"
   }
  ],
  "kernelspec": {
   "display_name": "Python 3 (ipykernel)",
   "language": "python",
   "name": "python3"
  },
  "language_info": {
   "codemirror_mode": {
    "name": "ipython",
    "version": 3
   },
   "file_extension": ".py",
   "mimetype": "text/x-python",
   "name": "python",
   "nbconvert_exporter": "python",
   "pygments_lexer": "ipython3",
   "version": "3.10.9"
  },
  "toc": {
   "base_numbering": 1,
   "nav_menu": {},
   "number_sections": true,
   "sideBar": true,
   "skip_h1_title": true,
   "title_cell": "Table of Contents",
   "title_sidebar": "Contents",
   "toc_cell": false,
   "toc_position": {},
   "toc_section_display": true,
   "toc_window_display": false
  }
 },
 "nbformat": 4,
 "nbformat_minor": 2
}
